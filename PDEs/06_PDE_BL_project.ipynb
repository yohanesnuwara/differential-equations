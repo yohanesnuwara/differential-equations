{
  "nbformat": 4,
  "nbformat_minor": 0,
  "metadata": {
    "kernelspec": {
      "display_name": "Python 3",
      "language": "python",
      "name": "python3"
    },
    "language_info": {
      "codemirror_mode": {
        "name": "ipython",
        "version": 3
      },
      "file_extension": ".py",
      "mimetype": "text/x-python",
      "name": "python",
      "nbconvert_exporter": "python",
      "pygments_lexer": "ipython3",
      "version": "3.8.6"
    },
    "colab": {
      "name": "06_PDE_BL_project.ipynb",
      "provenance": [],
      "include_colab_link": true
    }
  },
  "cells": [
    {
      "cell_type": "markdown",
      "metadata": {
        "id": "view-in-github",
        "colab_type": "text"
      },
      "source": [
        "<a href=\"https://colab.research.google.com/github/yohanesnuwara/differential-equations/blob/master/PDEs/06_PDE_BL_project.ipynb\" target=\"_parent\"><img src=\"https://colab.research.google.com/assets/colab-badge.svg\" alt=\"Open In Colab\"/></a>"
      ]
    },
    {
      "cell_type": "markdown",
      "metadata": {
        "id": "wDeUo-BJcfFk"
      },
      "source": [
        "# Buckley-Leverett PDE \n",
        "\n",
        "(Project by myself)"
      ]
    },
    {
      "cell_type": "code",
      "metadata": {
        "id": "x5uREYoJcfFq"
      },
      "source": [
        "import numpy\n",
        "from matplotlib import pyplot\n",
        "from scipy import interpolate\n",
        "\n",
        "pyplot.style.use('seaborn')"
      ],
      "execution_count": null,
      "outputs": []
    },
    {
      "cell_type": "markdown",
      "metadata": {
        "id": "fnss2EvOcfFr"
      },
      "source": [
        "The form of BL PDE, according to Brian Towler's textbook p. 159, as follows:\n",
        "\n",
        "$$\\frac{\\partial S_w}{\\partial t}+\\nu_t \\frac{\\partial F_w}{\\partial x}=0$$\n",
        "\n",
        "Where according to [here](http://sonny-qa.github.io/2017/03/30/Bucky-Leverett-Python/), $\\nu_t=\\frac{q}{A \\phi}$\n",
        "\n",
        "By my observation, the form above looks like the **transport PDE** form (discussed in my 4th notebook). From of transport PDE is:\n",
        "\n",
        "$$\\frac{\\partial \\rho}{\\partial t}+\\frac{\\partial F}{\\partial x}=0$$\n",
        "\n",
        "My aim is to solve numerically BL PDE for $S_w(x,t)$, similarly when solving transport PDE for $\\rho(x,t)$.\n",
        "\n",
        "The BL PDE is transformed using chain rule:\n",
        "\n",
        "$$\\frac{\\partial S_w}{\\partial t}+\\nu_t \\frac{\\partial F_w}{\\partial S_w} \\frac{\\partial S_w}{\\partial x}=0$$\n",
        "\n",
        "Where $F_w=\\frac{1}{1+\\frac{k_{ro}}{\\mu_o} \\frac{\\mu_w}{k_{rw}}}$\n",
        "\n",
        "And $k_{ro}, k_{rw}=f(S_w)$"
      ]
    },
    {
      "cell_type": "markdown",
      "metadata": {
        "id": "UYO7nN_LcfFs"
      },
      "source": [
        "## Relative permeability data"
      ]
    },
    {
      "cell_type": "markdown",
      "metadata": {
        "id": "gyl-4BCjcfFs"
      },
      "source": [
        "Obtained from Brian Towler's textbook p. 159, Table 13.4"
      ]
    },
    {
      "cell_type": "code",
      "metadata": {
        "colab": {
          "base_uri": "https://localhost:8080/",
          "height": 279
        },
        "id": "eq5bX_j4cfFs",
        "outputId": "d6f798e6-ba53-4ec6-a2bc-251ac74a254c"
      },
      "source": [
        "Sw = numpy.arange(0.2, 0.9, 0.05)\n",
        "krw = numpy.array([0, .002, .02, .04, .07, .11, .15, .22, .3, .4, .5, .6, .7, .8])\n",
        "kro = numpy.array([.6, .5, .4, .3, .23, .17, .12, .08, .05, .03, .02, .01, .005, 0])\n",
        "\n",
        "pyplot.plot(Sw, krw, '.-', label='krw')\n",
        "pyplot.plot(Sw, kro, '.-', label='kro')\n",
        "pyplot.xlim(0.2, 0.85)\n",
        "pyplot.xlabel('Sw'); pyplot.ylabel('Relative Permeability')\n",
        "\n",
        "pyplot.legend()\n",
        "pyplot.show()"
      ],
      "execution_count": null,
      "outputs": [
        {
          "output_type": "display_data",
          "data": {
            "image/png": "[encoded data removed]",
            "text/plain": [
              "<Figure size 432x288 with 1 Axes>"
            ]
          },
          "metadata": {
            "tags": [],
            "needs_background": "light"
          }
        }
      ]
    },
    {
      "cell_type": "markdown",
      "metadata": {
        "id": "ZjKuTkgzcfFt"
      },
      "source": [
        "Interpolate relative permeability data"
      ]
    },
    {
      "cell_type": "code",
      "metadata": {
        "id": "AuA-SBAucfFt"
      },
      "source": [
        "def interpolate_kr(Sw, krw, kro):\n",
        "    # interpolate relative permeability curve\n",
        "    \n",
        "    krw_interp = interpolate.splrep(Sw, krw, s=0)\n",
        "    kro_interp = interpolate.splrep(Sw, kro, s=0)    \n",
        "    return krw_interp, kro_interp"
      ],
      "execution_count": null,
      "outputs": []
    },
    {
      "cell_type": "code",
      "metadata": {
        "id": "TWZUgw48cfFu"
      },
      "source": [
        "krw_interp, kro_interp = interpolate_kr(Sw, krw, kro)"
      ],
      "execution_count": null,
      "outputs": []
    },
    {
      "cell_type": "code",
      "metadata": {
        "colab": {
          "base_uri": "https://localhost:8080/"
        },
        "id": "tGoa5kUBcfFu",
        "outputId": "fb7016b1-a80d-491f-ac09-e53f5f68663c"
      },
      "source": [
        "# test intepolated relperm for Sw=0.575\n",
        "Sw_new = .575\n",
        "krw_new = interpolate.splev(Sw_new, krw_interp, der=0)\n",
        "kro_new = interpolate.splev(Sw_new, kro_interp, der=0)\n",
        "\n",
        "print('At Sw={}, krw={} and kro={}'.format(Sw_new, krw_new, kro_new))"
      ],
      "execution_count": null,
      "outputs": [
        {
          "output_type": "stream",
          "text": [
            "At Sw=0.575, krw=0.25827076696551754 and kro=0.06379291182871477\n"
          ],
          "name": "stdout"
        }
      ]
    },
    {
      "cell_type": "markdown",
      "metadata": {
        "id": "vjArGWX6cfFu"
      },
      "source": [
        "## Initial condition"
      ]
    },
    {
      "cell_type": "code",
      "metadata": {
        "colab": {
          "base_uri": "https://localhost:8080/",
          "height": 300
        },
        "id": "cYUSXuOBcfFu",
        "outputId": "e762a023-9eee-46b3-cde3-75b810cc3e37"
      },
      "source": [
        "# set parameters for initial condition\n",
        "L = 4 \n",
        "nx = 41\n",
        "\n",
        "x = numpy.linspace(0.0, L, nx) \n",
        "Sw0 = numpy.full(nx, 0.2)\n",
        "Sw0[[18,19,20,21,22,23,24]] = 1\n",
        "\n",
        "pyplot.plot(x, Sw0)\n",
        "pyplot.xlim(min(x), max(x))\n",
        "pyplot.xlabel('x'); pyplot.ylabel('Sw')\n",
        "pyplot.title('Initial Condition', size=20)\n",
        "\n",
        "pyplot.show()"
      ],
      "execution_count": null,
      "outputs": [
        {
          "output_type": "display_data",
          "data": {
            "image/png": "[encoded data removed]",
            "text/plain": [
              "<Figure size 432x288 with 1 Axes>"
            ]
          },
          "metadata": {
            "tags": [],
            "needs_background": "light"
          }
        }
      ]
    },
    {
      "cell_type": "code",
      "metadata": {
        "colab": {
          "base_uri": "https://localhost:8080/",
          "height": 300
        },
        "id": "HQhjO5Y-cfFv",
        "outputId": "402aa382-230f-44b1-c559-c82602beffdc"
      },
      "source": [
        "# set parameters for initial condition\n",
        "L = 4 \n",
        "nx = 41\n",
        "\n",
        "x = numpy.linspace(0.0, L, nx) \n",
        "Sw0 = numpy.full(nx, 0.2)\n",
        "Sw0[:15] = 1\n",
        "\n",
        "pyplot.plot(x, Sw0)\n",
        "pyplot.xlim(min(x), max(x))\n",
        "pyplot.xlabel('x'); pyplot.ylabel('Sw')\n",
        "pyplot.title('Initial Condition', size=20)\n",
        "\n",
        "pyplot.show()"
      ],
      "execution_count": null,
      "outputs": [
        {
          "output_type": "display_data",
          "data": {
            "image/png": "[encoded data removed]",
            "text/plain": [
              "<Figure size 432x288 with 1 Axes>"
            ]
          },
          "metadata": {
            "tags": [],
            "needs_background": "light"
          }
        }
      ]
    },
    {
      "cell_type": "markdown",
      "metadata": {
        "id": "k19QxDOwcfFv"
      },
      "source": [
        "# Simulation"
      ]
    },
    {
      "cell_type": "markdown",
      "metadata": {
        "id": "RwpByBrNcfFv"
      },
      "source": [
        "Using Forward-time/Backward-space scheme\n",
        "\n",
        "\\begin{equation}\n",
        "\\frac{S^{n+1}_{wi}- S^n_{wi}}{\\Delta t}+ \\nu_t \\frac{F_{wi}^n-F_{wi-1}^n}{\\Delta x}=0\n",
        "\\end{equation}\n",
        "\n",
        "Time extrapolation:\n",
        "\n",
        "$$S_{wi}^{n+1}=S_{wi}^{n}-\\frac{\\nu_t \\Delta t}{\\Delta x} (F_{wi}^{n}-F_{wi-1}^{n})$$"
      ]
    },
    {
      "cell_type": "code",
      "metadata": {
        "id": "7NZfsMXucfFw"
      },
      "source": [
        "def interstitial_velocity(q, A, poro):\n",
        "    # interstitial velocity vt\n",
        "    vt = q / A * poro\n",
        "    return vt\n",
        "\n",
        "def fractional_flow(krw, muw, kro, muo):\n",
        "    # fractional flow Fww\n",
        "    Fww = 1 / (1 + (kro / muo) * (muw / krw))\n",
        "    return Fww"
      ],
      "execution_count": null,
      "outputs": []
    },
    {
      "cell_type": "code",
      "metadata": {
        "id": "-UFIQ_QjcfFw"
      },
      "source": [
        "def BL_cfl(nt, Sw0, L, nx, sigma, bc_value, muw, muo, q, A, poro):\n",
        "    # Solve Buckley-Leverett PDE using forward-time/backward-space scheme\n",
        "    \n",
        "    # calculate interstitial velocity\n",
        "    vt = interstitial_velocity(q, A, poro)\n",
        "    \n",
        "    # calculate dx\n",
        "    dx = L / (nx - 1)\n",
        "    \n",
        "    # calculate dt from CFwL\n",
        "    dt = sigma * dx / vt  # time-step size \n",
        "    \n",
        "    # Discretize the domain.\n",
        "    x = numpy.linspace(0.0, L, num=nx)   \n",
        "    \n",
        "    # integrate solution in time\n",
        "    Sw_hist = [Sw0.copy()]\n",
        "    Sw = Sw0.copy()\n",
        "    for n in range(nt):\n",
        "        # Compute the fractional flow.\n",
        "        krw = interpolate.splev(Sw, krw_interp, der=0) # interpolate krw for updated Sw\n",
        "        kro = interpolate.splev(Sw, kro_interp, der=0) # interpolate kro for updated Sw\n",
        "        Fw = fractional_flow(krw, muw, kro, muo)\n",
        "        \n",
        "        # Advance in time.\n",
        "        Sw[1:] = Sw[1:] - (vt * dt / dx) * (Fw[1:] - Fw[:-1])\n",
        "        \n",
        "        # Set the left boundary condition.\n",
        "        Sw[0] = bc_value\n",
        "        \n",
        "        # Record the time-step solution.\n",
        "        Sw_hist.append(Sw.copy()) \n",
        "\n",
        "    # Plot Sw over x\n",
        "    fig = pyplot.figure(figsize=(6.0, 4.0))\n",
        "    pyplot.xlabel(r'$x$')\n",
        "    pyplot.ylabel(r'Sw')\n",
        "    pyplot.grid()\n",
        "    pyplot.plot(x, Sw0, label='Initial',\n",
        "                color='C0', linestyle='--', linewidth=2)\n",
        "    pyplot.plot(x, Sw, label='nt = {}'.format(nt),\n",
        "                color='C1', linestyle='-', linewidth=2)\n",
        "    pyplot.xlim(0.0, L)\n",
        "    pyplot.ylim(0, 1)\n",
        "    fig.tight_layout()  \n",
        "    pyplot.legend()\n",
        "    pyplot.grid()"
      ],
      "execution_count": null,
      "outputs": []
    },
    {
      "cell_type": "code",
      "metadata": {
        "colab": {
          "base_uri": "https://localhost:8080/",
          "height": 297
        },
        "id": "h33gOIgUcfFw",
        "outputId": "7b33fcc7-cd83-483a-8728-fe1f76e0f3cc"
      },
      "source": [
        "# Set parameters for simulation\n",
        "nt = 70\n",
        "L = 4\n",
        "sigma = 0.1\n",
        "bc_value = Sw0[0]\n",
        "u_max = 1\n",
        "\n",
        "muw = 0.5E-3\n",
        "muo = 1E-3\n",
        "q = 200 # m3/hr\n",
        "A = 30 # m2\n",
        "poro = 0.24\n",
        "\n",
        "# Simulation\n",
        "BL_cfl(nt, Sw0, L, nx, sigma, bc_value, muw, muo, q, A, poro)"
      ],
      "execution_count": null,
      "outputs": [
        {
          "output_type": "display_data",
          "data": {
            "image/png": "[encoded data removed]",
            "text/plain": [
              "<Figure size 432x288 with 1 Axes>"
            ]
          },
          "metadata": {
            "tags": [],
            "needs_background": "light"
          }
        }
      ]
    },
    {
      "cell_type": "markdown",
      "metadata": {
        "id": "wB-KJzEWcfFw"
      },
      "source": [
        "## Producing animation"
      ]
    },
    {
      "cell_type": "code",
      "metadata": {
        "id": "IMm4e4f5cfFx"
      },
      "source": [
        "from matplotlib import animation\n",
        "from IPython.display import HTML"
      ],
      "execution_count": null,
      "outputs": []
    },
    {
      "cell_type": "code",
      "metadata": {
        "id": "m5VoY3JoAKlR"
      },
      "source": [
        ""
      ],
      "execution_count": null,
      "outputs": []
    },
    {
      "cell_type": "code",
      "metadata": {
        "id": "n96x88sycfFx"
      },
      "source": [
        "def BL_mov(nt, Sw0, L, nx, sigma, bc_value, muw, muo, q, A, poro):\n",
        "    # Solve Buckley-Leverett PDE using forward-time/backward-space scheme\n",
        "    \n",
        "    # calculate interstitial velocity\n",
        "    vt = interstitial_velocity(q, A, poro)\n",
        "    \n",
        "    # calculate dx\n",
        "    dx = L / (nx - 1)\n",
        "    \n",
        "    # calculate dt from CFwL\n",
        "    dt = sigma * dx / vt  # time-step size \n",
        "    \n",
        "    # Discretize the domain.\n",
        "    x = numpy.linspace(0.0, L, num=nx)   \n",
        "    \n",
        "    # integrate solution in time\n",
        "    Sw_hist = [Sw0.copy()]\n",
        "    Sw = Sw0.copy()\n",
        "    for n in range(nt):\n",
        "        # Compute the fractional flow.\n",
        "        krw = interpolate.splev(Sw, krw_interp, der=0) # interpolate krw for updated Sw\n",
        "        kro = interpolate.splev(Sw, kro_interp, der=0) # interpolate kro for updated Sw\n",
        "        Fw = fractional_flow(krw, muw, kro, muo)\n",
        "        \n",
        "        # Advance in time.\n",
        "        Sw[1:] = Sw[1:] - (vt * dt / dx) * (Fw[1:] - Fw[:-1])\n",
        "        \n",
        "        # Set the left boundary condition.\n",
        "        Sw[0] = bc_value\n",
        "        \n",
        "        # Record the time-step solution.\n",
        "        Sw_hist.append(Sw.copy()) \n",
        "    \n",
        "    return x, Sw0, Sw_hist"
      ],
      "execution_count": null,
      "outputs": []
    },
    {
      "cell_type": "code",
      "metadata": {
        "id": "9PneZZfvcfFx"
      },
      "source": [
        "sigma=0.5\n",
        "x, Sw0, Sw_hist = BL_mov(nt, Sw0, L, nx, sigma, bc_value, muw, muo, q, A, poro)"
      ],
      "execution_count": null,
      "outputs": []
    },
    {
      "cell_type": "code",
      "metadata": {
        "id": "EEYjbOgacfFy"
      },
      "source": [
        "def update_plot(n, u_hist):\n",
        "    \"\"\"\n",
        "    Update the line y-data of the Matplotlib figure.\n",
        "    \n",
        "    Parameters\n",
        "    ----------\n",
        "    n : integer\n",
        "        The time-step index.\n",
        "    u_hist : list of numpy.ndarray objects\n",
        "        The history of the numerical solution.\n",
        "    \"\"\"\n",
        "    fig.suptitle('Time step {:0>2}'.format(n))\n",
        "    line.set_ydata(u_hist[n])"
      ],
      "execution_count": null,
      "outputs": []
    },
    {
      "cell_type": "code",
      "metadata": {
        "colab": {
          "base_uri": "https://localhost:8080/",
          "height": 297
        },
        "id": "c7_S3mLLcfFy",
        "outputId": "eaa4c5e7-806e-4866-c278-0bafc837bc07"
      },
      "source": [
        "fig = pyplot.figure(figsize=(6.0, 4.0))\n",
        "pyplot.xlabel('x')\n",
        "pyplot.ylabel('Sw')\n",
        "pyplot.grid()\n",
        "line = pyplot.plot(x, Sw0,\n",
        "                   color='C0', linestyle='-', linewidth=2)[0]\n",
        "pyplot.xlim(0.0, L)\n",
        "pyplot.ylim(0, 1)\n",
        "fig.tight_layout()\n",
        "pyplot.grid()"
      ],
      "execution_count": null,
      "outputs": [
        {
          "output_type": "display_data",
          "data": {
            "image/png": "[encoded data removed]",
            "text/plain": [
              "<Figure size 432x288 with 1 Axes>"
            ]
          },
          "metadata": {
            "tags": [],
            "needs_background": "light"
          }
        }
      ]
    },
    {
      "cell_type": "code",
      "metadata": {
        "id": "L2Earkh5cfFy"
      },
      "source": [
        "# Create an animation.\n",
        "nt = 70\n",
        "anim = animation.FuncAnimation(fig, update_plot,\n",
        "                               frames=nt, fargs=(Sw_hist,),\n",
        "                               interval=200)"
      ],
      "execution_count": null,
      "outputs": []
    },
    {
      "cell_type": "code",
      "metadata": {
        "colab": {
          "base_uri": "https://localhost:8080/",
          "height": 309
        },
        "id": "l4gaCLalcfFz",
        "outputId": "1ee07738-3f98-4aa8-ef5c-13b11168b7fe"
      },
      "source": [
        "# Display the video.\n",
        "HTML(anim.to_html5_video())"
      ],
      "execution_count": null,
      "outputs": [
        {
          "output_type": "execute_result",
          "data": {
            "text/html": [
              "<video width=\"432\" height=\"288\" controls autoplay loop>\n",
              "  <source type=\"video/mp4\" src=\"data:video/mp4;base64,AAAAHGZ0eXBNNFYgAAACAGlzb21pc28yYXZjMQAAAAhmcmVlAABmcG1kYXQAAAKtBgX//6ncRem9\n",
              "5tlIt5Ys2CDZI+7veDI2NCAtIGNvcmUgMTUyIHIyODU0IGU5YTU5MDMgLSBILjI2NC9NUEVHLTQg\n",
              "QVZDIGNvZGVjIC0gQ29weWxlZnQgMjAwMy0yMDE3IC0gaHR0cDovL3d3dy52aWRlb2xhbi5vcmcv\n",
              "eDI2NC5odG1sIC0gb3B0aW9uczogY2FiYWM9MSByZWY9MyBkZWJsb2NrPTE6MDowIGFuYWx5c2U9\n",
              "MHgzOjB4MTEzIG1lPWhleCBzdWJtZT03IHBzeT0xIHBzeV9yZD0xLjAwOjAuMDAgbWl4ZWRfcmVm\n",
              "PTEgbWVfcmFuZ2U9MTYgY2hyb21hX21lPTEgdHJlbGxpcz0xIDh4OGRjdD0xIGNxbT0wIGRlYWR6\n",
              "b25lPTIxLDExIGZhc3RfcHNraXA9MSBjaHJvbWFfcXBfb2Zmc2V0PS0yIHRocmVhZHM9MyBsb29r\n",
              "YWhlYWRfdGhyZWFkcz0xIHNsaWNlZF90aHJlYWRzPTAgbnI9MCBkZWNpbWF0ZT0xIGludGVybGFj\n",
              "ZWQ9MCBibHVyYXlfY29tcGF0PTAgY29uc3RyYWluZWRfaW50cmE9MCBiZnJhbWVzPTMgYl9weXJh\n",
              "bWlkPTIgYl9hZGFwdD0xIGJfYmlhcz0wIGRpcmVjdD0xIHdlaWdodGI9MSBvcGVuX2dvcD0wIHdl\n",
              "aWdodHA9MiBrZXlpbnQ9MjUwIGtleWludF9taW49NSBzY2VuZWN1dD00MCBpbnRyYV9yZWZyZXNo\n",
              "PTAgcmNfbG9va2FoZWFkPTQwIHJjPWNyZiBtYnRyZWU9MSBjcmY9MjMuMCBxY29tcD0wLjYwIHFw\n",
              "bWluPTAgcXBtYXg9NjkgcXBzdGVwPTQgaXBfcmF0aW89MS40MCBhcT0xOjEuMDAAgAAAEWFliIQA\n",
              "Ev/+963fgU3APu38aAuOvqBCkbY3WxQcuNVVtYfbjb4791IUWLsEjC9C8i8l/mGb71M8PPIoyhSt\n",
              "mTI56DE4tHGzU6cXTv9cO4Dvs+3VIM2Rj8O1viIAiihsqEuKrXJrsNdqog9Zdoy3gFrvpCxAuIre\n",
              "npf8Q5t4fjigv22m3tblcrpJWrpskjnTU/tUDBrnlS2euwzdRWRakVgU7JaZ56lNt8DxjYjaisVT\n",
              "NO8gk74cIQR2WNwqWMDGgrEgfDNJhWByiyIYUCkbNfYw/fm9ROJaJI6y+vFgdNEWxVfYCP2JaixT\n",
              "EIaS73st0l8Nd+doqZ+v6C07/UJkYljJhuWlgdV95PWadf+uxR2qItDVjwUoC2s9B0hRVixSd+dz\n",
              "HXXsLkJCBE041hfBbGMMVuh9KDMYttolhqOS7IdvSoiOi6mJtt4IaPMt4VfjfLV0BEd0lNbxmkF/\n",
              "opPDblgW69ll++TddH+fgit8QvYmt0Zg7QVH4gX8mXgbQ2IKjSKXRU2C0fNxfgEbV7UVAj6yyR9h\n",
              "XYhZ28kgIRHwcaC9FkNYW2gLTfBgP91bxf9JEcWbxu9+GcBrdB9vojbrDLFhlKkJ3n3Ra8hRZLmi\n",
              "D5vtBDj5JGiSdkDnMgU/CnrOf1lUYXsUnzBDeR2XI+5Ul0r43NJqxY/B6NfgQotJ4SO26WgaVMx2\n",
              "MVBLQNxCwOBj3HkzWKOQkU8n737l/eI1CNkk9B5hTR+dXgQWkyRjNgsYtvXI5pnxCHmAMrXNI14A\n",
              "iY2/AnMwL9EiypgnZPCqEzAK+38Z15I7uD2NZxhk1W8W7/AGcEc18CmlhotHn2D8R2l81hSaqCKT\n",
              "A3lo9gn1Vvy1+BcS34nRS5/iKlrLaFrCXphOMbtRLGU/A22QElt3f2Ci/Qzk5idmBvmJS5iBxP1b\n",
              "QhOKm9lW3ut1j8F6bSe/A9qjvBT9qhiveV+IPPcjMt3kLT/1hpUWiJ4gmjQlJYnHUmUUKCWBf0Vx\n",
              "l99mm8oZgPCHnZOT5AeuJM0TZ+B9RnLP16NzMIvXyyGxf4OtNdzkXduLmaHdOb8nXvc4wSMr4dCo\n",
              "/uJsNCF90XK/XVsL1wiSQEdw/4V6kysoLbeynJtbTgUfWit/0m4euBhtINg9HfEvoYTmGi6PMggd\n",
              "Mg/JdlCRg1DJ4NkdIt/JsxQCbeNbhhQFaZxolIFvTb30CNLcrBb5fdfTqmlJAPQRW+8OD9YAw5Kg\n",
              "5DcUC0wfzcy4QbPiqfga5pYj98RbRECDkabPNwyV2HM6WO3n+1YidEn9rRmj2i5zkRFaMR9YTkSy\n",
              "PrSOAJEKZtPh6ExTys7QdWEMPTLyZetPfcDx9KVlt//OIjfZLupvJGcx4mtk5UiMg8B6hmr++TMC\n",
              "0T77jl2UEB9Kps5BICqskCLQ9G4JGpmyjnmQW+tNem1QCdeNHSC78O52DP/+znvxM342nOvt/VZJ\n",
              "BK0VJmYI7c3VnK0JeSoooc5voXdfd8v16JO/gTRlu7KiR8aQf5roBNf18j34SwaQO2geChJSW3i2\n",
              "14c6fNQ/+BvWB6MLVvpUSXXpDgZf3Qm1a/PkcRXD9tO07QmRWvFM2DGLsEi5jiZX/QAkirH39yBh\n",
              "t84OenOz/KF+RYUyo45Z4nQH5NX6xLySsTlPrF7HyVFnzon5IGzcOgI5lnaK70f9LCx6RLlTvYJM\n",
              "s+sAjZpsRitNX7uclEbk7nCpiIU2K/+hL0iSd3vxsFU3mOaAiUBcZEWQj35PR7S5srmDVH2bQSus\n",
              "M1gAsDaNVl3om6HUgn76jVomWTqIy2YQ9ZHO8hf/ZUyaWjuVPObg353hURxLG5Iy9hsHIdM9WyDW\n",
              "RyJ/QrC2x+5coK/JM9rnrzG/5fNY76xbeQMhwYP/LpOV69zhXJhxVvrwXHrpHX+7sCzN+ebsitr7\n",
              "b+TcZkrl9tnV+IVXpDv4pxhWTa7SP29souELLmCPyugiNPLPeRSWgEn/uWf2MHLbPYAhzgSNeY0W\n",
              "I8ItNzl5rPBbuPmrCAlT2krgWBLM6NdcC8WiNoL/Xl+2BMThEE7YPnbDsQ/vszgkWAdF3UaiEznD\n",
              "3PZNy2DV64c7LUgm0x3Hmwtf2+oBJbE9liHrvxfFYyqXPU5VsavQJPPARYAcUWxg+vUFfOtp+dCw\n",
              "kUtvQ6Bdl8jnoYV8rtNEHMskk3xar2ZUua2V0s/0gVbaBIlcpC8h8PEnVtC/n/deHGNTh6f15b1u\n",
              "DP/79FKd2clUP9OeNO4LSomtyFDVDRv1RVpza6JNVythKQRUA9ZQFW3xX9JCCCWbLxt7shScND6+\n",
              "qLAVm3OX4ar5IDeMbERemd0uTakOvM9vkFbjOGwmT/wvlV9eq5zw642smJ8m6od2yVs+B7+lRknW\n",
              "WcFQw+s37h1aWWL+IHX7b2DvLO/9/3NbSV8FByjNiyCwskgk7H3jj+q//vXTbW2erlI23P06vlZt\n",
              "prun1t3/62oHuGSNr8fA7+krOTl1KzvQFekce5D/p7/OXBBCs/Ze/XAUxP1j/kFldmB/Wmi5Lker\n",
              "sav5tzRlX9tUZ3u/092kTH1JOk57YBtK0m7MUuuoG6XyQ9JW3rryXr+sp2AHV+7G/0+8btTbJC2N\n",
              "YGM8vdkjHues+xGdoNH/L8tI7EI3TuusxMkOCgwrbqepJ9yKdgkv3dP3ChBkKTD+8a64E8/FTh/B\n",
              "0AiJjSx7Y0/9Jd5V7qrMAFd8b11TGaIXfDODZVasI54PjAyl2omKl1peSDm4dJdP/8babwIvnlbd\n",
              "/jWo3T0TLzpUhMJh7jroV+jPsBIgoRO2ERNKMlU2jsHe2LD2JF9d8Hq7Rg+ZW4GtbyTQ6vmVAFza\n",
              "q/zGA/EW/NPdzG7LiT0mkCzb+GsYULy+Z8XYIiFNqaPIL7FguDQhgpzfT8MZ49EL/SzD8ehUInmX\n",
              "T/4RuGZ2znfHDB4UpznKARnf6VRkaEH+2P8KGbLYpxFeUkbRtpEUV5BAOHxBcj1GlDAEn69wRe5O\n",
              "IsLv76XRySAoor2TLUfox8KVhFfm/nMwSf8J6JCBwtmr8vxkk4htI1VoLB255uBABtGZASnFBzXt\n",
              "QUrqln49r2OxaFA5ZDjcADFEc4ClbNjSGjKHvp00gRG8si6EfA2ea64aaHg2CrdvicHzqqpTbNUr\n",
              "3oYAx6WUkDabTuNWui+wGf40y6kc1jrdkdrL2ojTHbDZgABETK8nhdvc8Myz/kDmn+AzUkTcf4EL\n",
              "GBzeV35RmwVW/7rCPj9lQcErxBDQZ3Hihls/vq0jcjeZCrbiImEbEBOsGv4JQGioSmYNvfPoLU5e\n",
              "8eP+hPwhc4yeY0Zb6GGilvTqbqPBmeEdFaG0y0pIROyGjrNmRkixEdwhogcu5XrGgq2QU52hCWfQ\n",
              "nwXd7oo+i6+yVEW5SMZrR0/r2Hlme5FPnImLGhEy/rjjvgkdVMhgjt1lF//hEqvvVvJfCZ7Daon5\n",
              "Pwsz/llN8S3dABTboB3JzPo0fdjgiWgYaaAoXE14+592diKg4KpZnNyf17tx0v9SStHb5wgpQZXP\n",
              "5sdUrJVj693nisbV7j8UF1YeGuY4FufH6NzVkDh6RDv/ArxttjdBjtPIuti53hS919RpR8LkpHzB\n",
              "hHOPrB9WaAMQkm01QlNdiR/8LpuTj4YPv+KZvMxKOn15LCTVTna+VGb2dr9ukjQ9Ny2w3as5M5po\n",
              "3XOm919TBXxpQkLey9gUPfWU8scoP+QqRLV6mJOVS0xGjCEScvNV6+QowB/1qG/JPlzjUrmxx7zV\n",
              "eiMe/Al56WEuLKSZwzMg0hyBE1svDoXQlztVSYADIHh/TLaIDLcWKvCLBAiWGvndYEIqyY1hDY3E\n",
              "O9jVB4cc8Y0fenqF92avQCeKcAAioz8jDu+lQPwvIy+5KQznpF6fK7HKUrhQG+p3khcCp1tlq0DX\n",
              "SEr/xZapf8uUyZ/mi8IHQrveJfZMw5V5+i9BLLhTmVn25gYnHvA5b5FhfJRVTXBpOoHz1XmuohTE\n",
              "O7o/nBNy5GlVH6JfiJjlvVA7iL9eakF4Qzib+G/YBzstZY2C/AeU5t+xuVQuJp2mwZUAJnRPk5li\n",
              "wdGCXGh4dqPeSc5yinUTkerhFCZBrKzemzAbnUMXQhvu4DPji6WRyox/5K8bC1nmxLz7tKISh7mL\n",
              "ytvfQ6H/YTL6tfSkqy0O5bmDOgr8Er80Abku9O5mT3u27oFO3p4JTWXy5DE2U2AVyeWynxJRNYap\n",
              "3kx5ov4IJagOJMk6qu/boENMHjjEbwuCwAwTi9JQLpj2uYa/3+Hnguq3RLU1NsrNpD9OLCEH3dzX\n",
              "xRJbRCxaIEDp4eeuZKZZHyLgKRq2cC86cjTiPw4Gsutr1n/5T61oVLJn9h4113A9DQ0oT9L9ozg4\n",
              "UrE7/ve9FCw5Br/cWkM972iqWypzM7AQMcjqNYjzEV0i/Rc+893RW2yGBfsCb8QC0NSWwK0hfHX7\n",
              "WP8UwdOgB96Wq6QxTUMAWwspghwUsE9fWujtZYA0mRzhJFfVopOgZZmtNY7tYkbA6fMZS58FWDDN\n",
              "fTSVEBuLp/zAN+ROuLq4HacPnkWbqKwWF2E09LERJ0JWMrnofs+SSFivF+9HNUi7KaAv0SXoo79A\n",
              "LTITO//Z/2rzJoH0Fj9fNrG1Si5mMr74U0p25tSjwfImTIPUOJiI3rtCwjcAASyXm48gIqATpD+v\n",
              "Mz2R2qQw9IxE9HqRlp3quxR+lCBjquRAlnzRIHma2Sp3YP85JSUR54jUKYzD6tbQu8NFkNB6HKmt\n",
              "54x6b0ZnVwwl0aqil8NbgEdQHyeC3GFbQrG/V6rBW2kI1B4wUHQImKzI5tczOM8S1EtHiAx5lQmF\n",
              "OIVz4nulMnKoWISQz9/wMR6/rkNMxUDhkO6JmiB2B0Id2xZdWnxTg3WvIb0iBHiDvj7e6Ao+Hmgg\n",
              "A8d7J262iU2qwww+PRcZIz06N+ioJIbOHnej2/UesWpJtpFLD5FHje7yYfymd56asJDxHHg1AMda\n",
              "6u2DcpyVWCPKSTB6/NF7xnNMwSSsDDjyTk+wwU4MJBc3G5WVyEL+YOBmRTu/u6Aba4UMyca7LXWY\n",
              "axNP7FFp2Iu3dlSa6mjEqhp/QTOSj6+5ICeAF38QOLaZCAnl/y/5945rcuvBEu1+C3C9q+nAYqBp\n",
              "RYZ+PS5E92AzlvwWo6C7EDQfmTb2L36BlxQJ926d3u+Qwq6WHCiPlS0RYXfSQYnUoNF/vMW07693\n",
              "GVpAKcUsBcXWqYL15UH8IgtC0Jtv7i9W9bew0timYkHxqE6lIPWra3XtUupeBiqcOMLiW+Y0WS7h\n",
              "8hWoqEWF/jOfqQRePMiozRTR0ekoSad//1l232RJ6dt9XTynbRoF0HsrvU99R954ZIO5XShzllKd\n",
              "EoDQFvR0W1GjvyPdFwqNeAySlXa0mJxQjBf6S0pdNHwFBTd8pxqCfrBb4DHD3mVo6N7IWH4MFa8S\n",
              "bTqK5CAGegqJZYvxeecxy+OGwmzFtNhOm8rB0TW4E52FCJHi0cfnG/RqyOlxSIvEf45In1vgTqNr\n",
              "K5O+r6NcC3Ys1ek1hOYatKg3XrjNchcpTMgtZ5w/WU+2td++ghxsDg82/RKKqUQ9qUx7aNFyWqaB\n",
              "oZmIqRUrw5rTpLTbh+WaR0be1tZPID/qcJ63RrkxUBNn81oVCwE8OqHH6gigQ3e5Zh6mj/Fh1/Iu\n",
              "rbirSUt1PgM8HeUHGbez0rE5d0ckN2H69apvugEVnmrkFu0NcguMk+jN39J5i4GUsFoj6ju8xMep\n",
              "Gr8OC9k6sF9U7Xdannd9kc2IThZpNI7vYu1YU1YoMc9/N6hy5Fp2c1pQeCJDSiAt41+91Q/VsLnE\n",
              "ZNq4P9xw3/gUDrYS2Cz44IVh3AlQ3lbbYewH4PJo5ZEEwcsIPMUteLvKkc7tAnIFqiNzuK1EDFmP\n",
              "+2VxOi3T56MTUx+TGX3QAAnOmN/lZAzwtzZ654IwmZqBydSuQQBsX1MP+ZibKkJseVn/kvYAAlcA\n",
              "AALPQZoibEEv/rUgh40AE19FCQApfcP5LQWTCR8K8nro4VRWPMwfCi857NKyuN90RJdpI2c5s1b6\n",
              "M7toG+o2gj8npPqfQGkhngXV2+P911T+kDt2A+6rZMPpSmtWGqBrNZeee5XMNbtpnDHDzruZR/bO\n",
              "doUNi9YO2nvALouUiuJCiGfEWywwMgukIeEcBHzdtVrCqkGlCslGY94EWRoBGjkEBVpkcEfDC+3j\n",
              "BIFXIzdIStc/a4quw6n8jFz3zVf2mw4Fh9Bl8u4enU26yoBdBr64qrsQZSxPWIRPOY1EXmR284dd\n",
              "l+c0RAYRL9XBE5yHgIP6IbtTkCqAwWaX2Tdk/kpfOb7On9h4t2m5RDDTHeO4y2nhXniDpqvnAebe\n",
              "JY7TZOXeYpg9nwdniDu5m5fgREXbb+6wYkteF0n+CLRPfk+ah7LZwARSI2Z75zmoo50V81Ayf60K\n",
              "cqFJ4j0n11yldfaiRF693n7AYWYyKFckgoaFwvBpJor2/Ij8wqTY8SOwx6z9dIewDM5YEe/Gubw6\n",
              "PD0t7fot6QXyPgvPfs//MsfDE3yKrG7QQs9AATYdCiVpIvI/6FrnRywo8AwgrgsoOAjii9lfNc35\n",
              "Em/uSNu3s7IFWvak/NQpydooTnAT1XRnGivrU0FBaQNDKe6anuXsgp2VwzlnZWso0/U2dQF3gdCC\n",
              "q5HLpJq2+UC7fEfpdbBFajh4uNtnWtLIqLHF0NNzzqMfbYnyCvZQ5wyVHALBkbsltO2nlcgTaKOc\n",
              "e4SRDnGNFFMm5RGmNTLREoAnM/v5M7x2qEkNJqQ9pd1fSgDdh7XiwkIYemTdXeC2M/iTqPAZ4YAl\n",
              "WtmnwqGt2xHJmOqW6FSYZBkvJhzo2MNXY5LxHxrgqyEhDbKxd1T8KTz/J/t3JlVM7saoVDmJpb79\n",
              "5vPSU17Jpha4skHvjYWsjyXL6dXpxYs/9gCQO879H4a4LbrQi4AAAAD6AZ5BeQ//BOJhH3a6WDTF\n",
              "mACdvkSXe4hsyhn7nLaWaNpZ+iSkQDj6w+d5vWb35kqwa2OoCgl0Vw2QsLSIbYdpoCQuvWSUlSPG\n",
              "uSUnaw9WIye69UpUTaOoAzsrgRMOBOO+gvjdmRMeuQUdpP+XqoAg6zGzEyhZ7SRjC6nko/zz69VR\n",
              "SUbTXsgtZesugPbYAXoRzw9gi3c0UnV1/f4VLTRcDcmf3xTADc7nDyBVsJNgOtLWw9PlQMZx8mQK\n",
              "DwsvSNjzjpbO+ec2g8HjFkfUuzJYOZjdeXF2ZOsXxfZ7BsdqTrpi4sUaWgqdsMlV/W/xs6xf5+mc\n",
              "pUALN0cKgQAAAiFBmkM8IZMphBL//rUsjFaR3fAAQpp9MJbcHPXmT9hAjfCIs+P6U7eNNT1dTLvh\n",
              "PkVE7Tq2NRbp7mbi9NGDEcd7Wp//XIe0Uqupu01stn9VY71dIFd6GMz+KzZxbcpNrFCmRUbYM32F\n",
              "OozAXGwVkdoht/RaUnbGKrcSC2Vncx3tP3lLGuYyhFszmrtSeByNwWBxHFdTdPh7wr9tJchpu2Fw\n",
              "4PNcdx56tirug9EznDhWDeIfFU+kusav6HXTqEINfPqZwz6x1XCAEL1cq3MFLL4FudAvWqkMk2Ld\n",
              "hN/9ky0ZY9q36KGjb1f3jybK9dBE4qsQHLKnMOc7EcKDchrJojbFTykvaK86NL5qwv2y6VJG/Nc/\n",
              "s/mBWMV+qdN3NOaf5pvpEHFRedEy3Q5DuobFhfdbmN0R0/6lKB35zEflyBSILorqhC3njPql3hqq\n",
              "7uCxyCd9Vyzr1lYaVzXhZNYA6v6uuoV210tYFnVsPSYs36G54Vv7CrHw0xRuW2JAD4ZcujNE0KW7\n",
              "ozdHpy74kSPH7sPKL1RetJshTiqbjUUdNFar1jfFPqf80bFC3ZBAWH/ejzIJezjPKF7nVkHWF0/+\n",
              "BD85mdHm1rAvusyoTE2Pn4gz04QTSu45TwFgdsaqxbYI1htzxrnVbsBIGI/AeoAkuq4KaNDNI9G6\n",
              "XLzWB08h4VeINQBRX7zPsngrnTq3m3WufbJf8NEedJy9J+iJX5JiQxgyYAAAAX9BmmRJ4Q8mUwIJ\n",
              "f/61LIzBKrtw+XCZYAIhN9Id6woP2ZAt5NW28fVVEDWga6di7avh4gxy7M5rlCIp13x6iOCk5mKM\n",
              "BGx4Lhmuub1YYcbw+L7+HRYed7gPmWnsnrduWsmPDk5U0iewCjLDjjpoMt0A9e/XH7wYccE+RuNe\n",
              "1ffQviK9mfA9wCANK37IYWTImHqlok0W5JM06Vet7p0ZWrWs839G6A2FXp84XAlR3aRqq7fIxcR5\n",
              "SFNXI7v/yXTZevmXc+5utGzaNazP+Xp/XN9AP9Q5vP/qklsydPg8b39svXV+wnEmLlSUQJSDNMc9\n",
              "RPLp3v4KSdYXAG+FUei2fqalIjD6s67SY1/5Ho3eSJtFSoos0mK2NjnF9g+j3FXx61Cr/jThhqVo\n",
              "paNG2o7408TwVs9Uv+oLYWTKKa0C7B+v+TxnzC8m8U5HKkGq30Ul9CcZme6HO89hhWXL+7E4cKqN\n",
              "LDege+YNLrl4LKo7e2sRBEMaIMNB+O3JxxbWQHWW0QAAAYlBmoVJ4Q8mUwIJf/61LJifBgAiFSck\n",
              "HkV0ft2ACNGfN8ryA4T6sYcLkh7BedKBD20shU8PT5g8ycdsw9Z/tNyKClN4D95MwYRbMv5vyHAD\n",
              "Op1RdmDLJYXOBkQM1S2nytbOoj9iX/nwbobPV5inQb3hCF/uBdbz46PKbnshAGI4bxeYyvqKeRYc\n",
              "/U+dHNMMd+zyogO9AoPOIY37atsFC29zQGTu0iiDqk5Vc0GFO7qX27JbAXMMIYu2kEKc+/bi8hql\n",
              "Lzz+4DrA4dWW2V8jHIrXWCbLfA5l/bmtNlBxbQb+OFkzi9T4h1psVP81sJQ4NZP18X3qhWnjfL8u\n",
              "NJ1mrti6ZsubNTSKOsTv7Vearj+JRcteXy7FUbQmgdWYRBktX6ib35qM7zyOXOLiiOUsux7u5xeW\n",
              "qGLTmavumIRfv00RgUZZYkJ5dV54UdsaiQX//VxjbgWl02LyXjE0pMQ3L7CYF5HJMIvWY5ojzQSg\n",
              "AMyuYWle4uyKl6ZPyYU9FJ1vH/3Ed5gLDhd+dw8AAAKbQZqnSeEPJlMFETwS//61LIzBKC+SXrgA\n",
              "iFSckHbexKydW04uBDyTJVsoiFIFvNaRM6bwQvt4rcrpQzUyTuF1DLt2dPp76aV5H6tHIwd2Y/5A\n",
              "ZV2paDSy+VbOa3EiypmzarhGrCff/YrbmmhndAaSCVwaegOQ9p9g5P+5KZ/TyR/1X+IePxmYXDzK\n",
              "QafsBLSb+43DTIDgrC1/8pKbofbU2mTeFw7pCF1BfBYbaEdr4CNoBz5xv2SXn/ktIolYdXJ1qa2/\n",
              "gUHScGSmdbXCuM2QuKdoLplUyvmBq3F3U+bbzviGJ3fQfM4B31BDvJtcYGSaSmzpaVHdpeaQti0Y\n",
              "dJD7PjpipHtF/8PtrtuLpCgnGsaGHZBxN1102199ASf/FE6sexs9TP7gom2fkKw1xTrvQkYCSyrm\n",
              "XnRlNsEbJHZ52ZVwU5keY/bMeewujHDGck7tvx05EB9IpQl0NRzMZ6tRxsdaz31BEPX7MtdLJSBE\n",
              "ppEKb9ZRQWzXKCvC1qiDc2VIAgc22X/CHLdGPbg4gZga/xThd1ObaK8QnWHT/CWGrVgZ+RSRMlWp\n",
              "INgUgWMQehPY22Dc7iiXffYFCHwzKrYy4O8GycF1B6pwxlYZOa4nXmdz637td8u+QYjkThNEOEDU\n",
              "jdfPRwiWAAY77LxypAPtRjf98FjhuUTGS7RhKBYPRQn7bhbO81k6xWZk97PNn9zvRBFQi1/VuPkg\n",
              "Oi7NSCkb6ajtmCOWhMXGB1jz6+XMa3lOde0HRXnAzdM0HkF2fryp8Y6HVNZxRK0Kcjq3t/ZuqNQJ\n",
              "YdESvM3SyNIUZx6eTa4QS+1QT8TFOcuX5DyKcUNzhe7QNQd+um+RnTpDY48vFACdtbVOfyybOh5Q\n",
              "qlNG0++Fn/I6Z93iR1s1LwAAAOABnsZqQ/8E4DRoxzR8AH9GX8fsxlEUWZnRL8Sq6OPuCZZxcd0A\n",
              "MXYWo1YGxnYS4E2lPteVv5Bardd11JhNJmyKlEyocnhbftFjMj+jfAAxFjOWBymND79F3evZJgRm\n",
              "JRBDoH+22x6m3aPQSTFBisLuavs+gVVzTaxDu452mu1dueGYLIw66VNr0Tv+DJGSnhIiGKkhyoGa\n",
              "3njH238nJDY53ZVKb0wpiK97deKQv8XNWaopiGOTsaiSWtA/diTvRj2+JR//NbOalHdl+bu3DXYO\n",
              "BlZrIFNGNVT6fH8JQICHgQAAAoFBmslJ4Q8mUwU8Ev/+tUOce1/OxfrwAdpqYWQCKKngW3RKl1Ek\n",
              "HVaHJuwzfUPjrhgPzzFhh+elM0ffMs8XLxfI4T2Gyw+lBaQ7M1pFrGiXq3OpATPcknDmZpqun4jW\n",
              "9fNfOE2QcpxveqLlSTU232bKUJyUb/tBt4g9rc0dBPoNcB0xLngGDPojSw/aBHkRiwBj4ggwIhaG\n",
              "GYnjhzcXJzdINDMFJ9Axq2+KnKAAmENYWI2pFVEURAL3h4nMsClCp+Shdw8EpY7rDtZfZNTfoV3Z\n",
              "EpvHuxQ/1UvbQ9f5hU/UzowtyppMSOY9vJJdNY2L1Q6K4eo58XQAp5hrmIOLkRAft4DsBGOOBmy8\n",
              "hfd6gq05/mQKJ9JO2bFO/RMYYEUzuIAXpxQ0lSH+IZyaPU4CefZwxgwnVKAZaPXCVguSU56Earik\n",
              "fpOs8GLfwOBD+adcfOz55n/0zz41yDZ1iJvEQurxWIlQM5Hi+09r2lxvieCvJdyEtlKQ49Rs45ga\n",
              "RroKDcHHHGNn2IBu5J98NTb2PYcsGPkH9GXzdX258RqarO1sKcrPVuW0vTPxFkiBgVQj0F8k4WZq\n",
              "ajYfjkmNAI/OTyHiBKczaodNpxpsaF7p3SN04RpObvya0PTgm0j3IlQBteL9jBzDsmfqB3rFRjWf\n",
              "WcPqVf0K9NVHEs+Pc4Wqlo4Ep6e8OL+XDRoHCbmVi/+Wfh7n7yEX/XQr1SzlapQfjo2R6By1Lzi3\n",
              "eJotSETcE/adrATIroWfVzWL4IOvgBElfUjPGhoGNuagMkg+ej8ewLo2lQBvgWAnxg8jEJGZCRkF\n",
              "kKzh1L4ZSYE9WBxcJXjxxJTg0HZbTQlwrKCIzAT7tK6rgAAAALsBnuhqQ/8FYjp4AJnl7o9prcRT\n",
              "ajiR67qwR2TWA7/N/a0qfNW0UchFLK9efor5H3U26jzyEXfK89D3gQlcuMqaCZqNGH7YicBWxpFT\n",
              "sx6wIEGLtJ5b+BgkbQK8Ox/0FZ4wWNd1Wi/DsVsqQlnGRWrH40N+v9m9oXjYCucdUHUmq7wm78wU\n",
              "yv45O6AQg78+7tDLW4pOXu2vnC79eD+v3FPl3aFO01c/C5dkZ3xiMqWaiOaWNtD8WE+UobWAAAAC\n",
              "OUGa60nhDyZTBTwS//61IHZudGTw32YmD0LBgBNk9NIu7Sh2w4Vf74Rgw7OVngWWv+nTAG0aVRX9\n",
              "VfSGhSEQdhveIyuc7TVNLcM1vD8XM52RMgVLlB828GoNpomiU49dqq84NYlAAixaUeAxocxr1DWa\n",
              "OatJM2aN0C7BBJR8jPyuJ5VmRD/6dYtgUdZUarcVO6hCTjctm63rlyyNjdJKMV9PgTYz02+ss7PA\n",
              "mHpjH4GJ6BReX21tFLXXlGcfnb98nW/dJ8wOkcKX8d+8cXhYiEahwjBfZ4uEluXzv/DHcL0QxIe1\n",
              "+4OotEMtdZCFk9EzjtEgGz7aDyjUY1LdWHxtqTxSCJCh1Ryqi93rwa0uePomf/m5EGsINYHit4la\n",
              "zfg509lOJl/UU4z8jNV7pRi52iXg2lKovj/x+GWs9yN/IekFuopZUPxsZ4Gbn9eavp4mxKhL/7K5\n",
              "5UBB3Kg16EihwZfmNyZWbGAx+4IqTml5LqXi7cwcyn39geA7oelxQwFvGOKGSGJUgyOl3+Mya/58\n",
              "kSCd2Et3Au4d01veaAJn47nFQxLh+DZdr4xBL6ydmO/37G/gFU1PEIk1anQ89qv/03w6B/bMzopz\n",
              "VQLgPYJQCCLCGN7LQvwyn0JOhI9J3IsxKEMybEuY8VGbcYnqbcE1KEEM6vOGvDpPMos9Grzpnx+z\n",
              "84Bf8AjGK/sGF94pPw6aHoaNx48YMFDT4Pwl+lFr5rX/ThpCgABur1ZdU8+6AAADAAlY7HFfNs45\n",
              "AAAA/gGfCmpD/wZdIsjPrmRb00AE7fHkUh12xL9ZWG+gmguc5CyEQOIMDCJz38JZdbA8rhkdtD2P\n",
              "LY3zpkfATeJ7p++2/LbY3uLsOoEsbByB7sudJAfSfawkgppa/QUWea0W6O24WJErwz+xsbqew2xE\n",
              "67H5bO/nAKQQ4GSjRHsTeEHp/2LjXgqEjXJ/orJTyd+G+0pD3Ot1uvybl9ZvJOImc2i3YVVY7DR1\n",
              "bAXHAFlkKVh8osw4Ze/J2AdxkZNwLj9wGoVYTFYIJyjvHcfbZMjSrJ7Gdf5N5I9leorCFBor2keb\n",
              "PnNqFXTekuIDOOyim62huACS0Y00P754GfIjc5kuAAABPEGbDEnhDyZTAgl//rVDoYE7i9vzksQA\n",
              "TscGmzBBNTETrkQKOiAhheDxwEm6CVntboKLaqKRtFld9z7wNKku3gI7ZbfYa752xrGfuRDZMzeZ\n",
              "xb9HYocJUHhIdrToE6iFV+FgIDTqRJmLl0nEWJ0uJHqOw+wn2R2D+f8cYN60lMHc7R/FA1AkeTrl\n",
              "pVPwhQnJ4krzsJVXXZdS2kY8JiUeFmzwa09gaPW8Rfk6e0dZTEx9Wjh4g4vHx6g0Pi3oSJK9fAKy\n",
              "/ba3VtgvV2jz26JfRUAt2qoE6mlJ8WHZRtO2VfYJ0t6HZ6YPZWBkWcPbW32VmyaytMi22YmdyB4/\n",
              "Ufz0+pFPJwLebG3UkbrQf3DSaaM9ikP94fJ0KczSV9d3S7x+78lUILKwRrPGD8WfSi/rM2UpOjDu\n",
              "reNL1nhcJIAAAAFyQZstSeEPJlMCCX/+tUOchhxe3ZmfRM4wAhhq0L4gpuyTwUkmcvmBrMoj4axZ\n",
              "othy9+RSIYjAS2MNZBuwaiiUtD/OA1Ujedsv/zvgft8qfioh3LX0qeAKaSGPrzmiq2ElbEU0DR6M\n",
              "7RzcHEYBXnx9HVtTGl4QMi34q2dnHKOZCWgkxYBId20AX6KAD5R1xGPC5LKN69mkSmrpcT/bXxRH\n",
              "OFmz/PvrB8rnbgEEKMq/YFTHCoTBo+RMP0jalCVYrLKhGX0DHWsT87FgsUQEXxJzdvrv/WHH4r9x\n",
              "X+r4kEk1Dc4qbYW3rGlAdUpz1G0qtmkJnHiTXtaQAubu57yAmTLLk13kyYND7BTFRrW9lIOldkFS\n",
              "sgqLLbNWykZosTnUPbSc6wp6e6Uihcg/FxSicFwIyiz0y64s050SBX65AeET0foPXnN15xJxPxPv\n",
              "+HutMnkfXextLLBHHjfN3R1aUTEjnEuYpGsq0z+PIK3tn55a9nTPgQAAAYtBm05J4Q8mUwIJf/61\n",
              "IHZuc2R8xIbjeTghUAEQp6qx+z7hN1PyJpYnGVpLKzK6wMydZDNJp0oqXzSesfEOzyqw/Vjw0HBw\n",
              "O/QU3IB0Hb5N4nThKmDk+UdSms06KCrrLSEf8pAnjpgMAsZ6JDm/Mzap4zqYk/hWf4s2s+2QvRhq\n",
              "lLt+NHs9jziGurdkxADNu/ScG+qUrQkobIyKvmZEik7tVWll1GhR9TWhrCyvrWA7VnjQc3/h95mN\n",
              "Y57rvPvDy91cJhDGiWKfuxs7dGUqd14Lz9vth2AWc8HasGxAoEypB5Hsjiu7heG25HqtwCGU5Nko\n",
              "BG1jN1ORjqhUz4yAi+Ot2VjuMgA+JcX9m1j7VdmAOvM78Cw8gmYYoBRL7RtiolrEdHnzQlELjQHL\n",
              "HDj0F+Je8IUNIhq8/BnD+tCOtqHaIv/5po2SRd2TqZUgXbGRkS10ywHePC6Dc1fi5si9DOlFV1e2\n",
              "V2AZBKo7XOaK6mQcBlBM2LY/2hLGbklNJAsjkAp0abnSMKxQ0JT8WQAAAiRBm3BJ4Q8mUwURPBL/\n",
              "/rVDoYC2LAfAAmnON3NTLd7lAGJ9YxGT0Vt52m30NhYqiCXkwRKbWi+LvYfNXR4ATmvvRMYMlVl/\n",
              "DDMWyHE7aVCQCf7+U0m0PwIB6M9HhkLyCfCwDOYbYVhhvjAsBa5M2DfBDIyahUkYmY10ggKDfJka\n",
              "QhqvscIMORzCGgXgaNrbfmDxtPJS1sStbM/Ul3GAEq4xIrbZNS5DwAsfTCGBsqp23R4trKJGjyXX\n",
              "KUuTke1km5ZwXBqjeArLVRma/a1ISYyxUdSN7/QAr4F24CzyzPfbCuEWcW1U+cvNpYagvI0KypyF\n",
              "35uXAIvBaSlYY3LedgFUwcZV8VHSZA8wKnLZv4XNd927FxX0orrw4b2siqlDOwLdnmBT4DcaTrG6\n",
              "zSE0B5kZxteXSKCa+6FUjhIm8Ghx3GNdLLBvcbw30IB4Z8NYAS60GwibKWDl5/DRYJYk05XutUNO\n",
              "XSKvHaHfYc3XloEOBPbWR9m3x4/G39AKYjmHXhO3LpvmoPm71xT2mOvHsIz82ZwvGpWhBnHBjUGX\n",
              "DqSf4SDifwgP4mgqrVmUGFKH9G3JNv8P0o53n2f3f8OyXv8aUQaUvrvcndMDPFPINosL9f3bU5Mn\n",
              "SRA4GvEwONPSEQ7MvrXbKit1bE3EEu79lyxB0S9Er6y+HrwxzDl5RjiaLcpJkCiwRZnHIDqaZ7WY\n",
              "FAe5O/9lSsbnm3cwWtThZOyywUQ84QAAAOcBn49qQ/8LV/vQATszfz/FNiruRtpjwU7M7OF4NaRb\n",
              "3VBdcpEOBZdda7MeCeNn7NnudYnL4LCu8dDgNWBpRhJA9GgC3t8lXvdIJoriXM7940ZcsX2syTPp\n",
              "kguwNVozuBU3ee19xxINxdIK37kCB5OdR+yLUNa7RgYhRINAp7YV6SsffQ0Dduh+fPxi0L3HwFaT\n",
              "jLLiVL8sBug8oG4PkNQt15LRIJ6L3UczP9zbTzD7F7C3DMAJgqo41uAclaFI+eAWDzLxJ/QQG5fd\n",
              "gkSBAFi75nrpDy2+fVhebZtRjiouM5OeybU2NSAAAAGBQZuRSeEPJlMCCX/+tSB2bncHSbPpNwCE\n",
              "p7L2JCscqE7vJTKvcU/s3DZN83i8oX+PEe83BJXel2Pu4bnlfKjh8YghGSWd7sH2emkf1YjJ0bG4\n",
              "Et/cz/Ez/LiHPNdql4exOEI9LBVEtzSX6cueqSelocyhEcP3wwKPjB04ZEH6wH+EJWdAy4XHgKeI\n",
              "JjAHWKGs+R++jyzuqadbsx/FeZAfi2UahqDFUedJWYBI0bXQikx77NNxqXasHpFaUEjwxYD0Sw3i\n",
              "uSxRY3h1/FxbtZcoTJVcjwl4/cpbfcshsRSRRr2KBl2b+zq0k1aV7qoOOibPPLtU0vIw0nEPFSCD\n",
              "tAvC2/sWs0IpbJQ7kfTGf1zHeQskxp0FXnaPE6y5nHvz1Jx+r69T+kCWN1x0aqJQSyk55D3va73W\n",
              "+lVkhr4K2bQRgStI+Qg41ap1H7NJg9F3HlAXQOBbNd1nhMekAOacg1ii/X+h0goys5oJQyN115MN\n",
              "EgyjRZ1mAo7TBZg24AHetjHl4AAAAW1Bm7JJ4Q8mUwIJf/61REHjQATU32uiF6PbvN+otpsWBeBw\n",
              "7SYD6TlFXLtKteB3/8ohSsYu70HZQ+oECwxcZpvtxMKlALPDSHZ9d1MoeDK68LgJI9GhdVMHvyCi\n",
              "j0xQxciHHX8XxXBnKeZUSMyEbVgG5QpYbOKtecxpxf3kGNWC0z2r4sP4QV+xToPqi3g1GXCVDjLg\n",
              "GhsEmuNCK1663+J+H2eiS3gNObs7tIBo7G7sm4hDwDz1jp0gzcVTXQedKM/BrYMzQB/wA53W9+yT\n",
              "tNtps1HINQp2oZ8zoFLXE/RI06qjH+Zk3eOd0V2pRl4YOTzBRHeoj/RVashKXkEgRpa8hNs5zzlN\n",
              "1MWuyyqWRRbs9ju0lca4CmcvP2QEKQr6AlBetVCyO8fUb8qiWxPwsYedUF1wdaGrArNPIPbd3L79\n",
              "kN9Vq40hD8S3uj4ZBf+dO87jXbdTQYmQRdPj2nyJawVisNS2rGLfvfyPOdQa0QAAAWtBm9NJ4Q8m\n",
              "UwIJ//61RERUgAcko3+r8N6ugGBRcpb+eBrxoWuewS6k0LkSaWTl3hsX9bo4trePDuu0F+CgjsNT\n",
              "wq8y8sz80Lf/Z+DkBHK/u9eBJLDkZSP7yuZaOw2RUasWFrUMxoRQeRxtBZLJrmKRzZ0oVu1HKhFX\n",
              "+lqc4s8eBERTBn6lh5yb2655wGHkVrryrhOi6kV1+Kv74/N+uSk1BtDOP9sXLBCuFZksnv89+TqV\n",
              "urhQ8Y0nxO6HP0DsOw/dNgEFvZG0ZtYIYPY5d1KFTjiy9NzTc76MDa/LrbZ65k5J5oBlxE1TH3My\n",
              "0nFNrhcvHZT1pkeZopxdeTc5yl20FEs0KdnPUuhR+0+GM2KDrygeGRjuh0DckKs9t9M8GyWjOV7T\n",
              "5MwUjx0e/TP5MFRl2BCuLRv9LBeGJc8QOInTgTx5hIVbOg5lU4WfIaA3W8zuN9TQaaVXiNLXYoXC\n",
              "97Mi9X81iSkzhKuVZeYAAAIGQZv1SeEPJlMFETwT//61IIPXooM5ZmpoAdFjMe0+tRNbrAvHkYui\n",
              "2g3LhojP4c5NNPQM0VaNDpIRmjH8bVA1aXlqynC0qTtUYpz2oIPiB55aCOcXHbs1G2+gwFyTMHHI\n",
              "TtcFveV7THh2LPQV89rCm2+VzE4PALJMaWTVbbSEt/O6Idw75ma7RdUZyCTjB1VOnrv6l6pR/fJ5\n",
              "sOVOjBDwoLPoY0iRnUuqAyy9KScd4fSqYMd9PkoLdYsGea59X18G9Z8j0xD3tZutojYEoxnoo3ta\n",
              "CHNww257xWAi/oGl3L4Yqfbxz5eEKQAixbErdlcV7s6XKgIzBmsOyTWI3NUyS/ysML4yuA0uSca3\n",
              "AGRXw+fEUIk9Jw0Xt63i47MyqI8gHfbrM5ekO475u4escRloltTGAdyiNX4iTbLa5cipzLctkhiZ\n",
              "g556IQ10B/8dMVQnD7khstcSJs1VSje5si3fczqyyHdXxv0SjCeQflA7vRtyb8gIfOM4eWvmBXdh\n",
              "3QLP72eZOv81ujs+w9qHCKNId/959Rm9YL0aNI7yq41S/7hD+TBVRjUQO6myVcbjTfnAMKczbXdm\n",
              "FVZHkggMVwGYIZ5ojGtb3tLom3TNq+AGDgaCSGM7hu/FFJDUQNgV0AAACBkL3wAAAwAAboUujphz\n",
              "mfSjZMF/IIAddV8VrXHqz4vax3zYBGwAAADZAZ4UakP/Bl0iyjgM+ngA/pD5HNixiX7UeCWF2x23\n",
              "jvcDAjdk8RXEix+PDJUrUCWaCm+2iXfykAKZFPO3b6cMpMG3mEZAjSzUmCWgSkKt/aYqPbhAArOJ\n",
              "d7ybNIzBxSXlfm18XaxWzO0l8X85/qgpLjhFb1jfg2y1WS5j3rhP/kyvtEMSpe+oFVTMq+YSVVMc\n",
              "HeZhTwXfCAF4d0qgDClYy4Wv9j2C2lVlc6x/kBiB7WgVkDUuxy6bg6ohW9vhlczfGKRDO65WAobn\n",
              "8+cBBdOVRG7fPB13165dwQAAAYRBmhdJ4Q8mUwU8E//+tUO3OKjwqgCanHYnJBoRIMz7Q2UGup4l\n",
              "W/aO3TLYfbm6i0joi2nhx7+fyFZPCjvRH2oKBC3wBxcSeKFZx3Qy/23S0cy6g/uRdTRCrQ8wG3S0\n",
              "vqJ8QIOOhD7O8BfoYsWlyOiQMt9W7aTX1q/aFF0yI+re3a+xzzCiidNkcwHiNRdpKVyNPxXbwEH4\n",
              "5pT3g8gLGHYWIwjTnsv+mwjADqrReOzUt/mevGE6faJ4jiemSLBVNvf27TljCe6ZNU9OPxZiT3A9\n",
              "9E7gtCSLzRT9IM6GacUtgHxQMTS2seScc/ltFN4eXOb9jLpgsVICJgrFLiEA5C2L4mb0sn7I2IgB\n",
              "Jdh8swKYznKrGR/2DfBELTDSduS0G5K9WyaKwGuacuFPKvJOI7H/WM6KQPx4CtHUbfwtmra847ls\n",
              "VLPOez6o4neUH0nTeP3vy7B0FRVtvTpzs5lHBmRskwkCN/qH9AcMmUUdFnfRsZAzPYx26jwHyEa2\n",
              "xmaDcmO0YF9/AAAAygGeNmpD/wU8MsW6gAk6P7rBDgiq1P1RolNC4RjIMU6R5RW9EVHJneqnW0Cl\n",
              "jjoajEy4oyP4PWSsc2JsLNXzSd5KXvGGXJ43YN4N6CgO/4J9+xFoF8YdgEZSNdgxDUuomQK+KIlE\n",
              "NYmngGFdtP5doRTICPKBk/Tm229/uUUqHETlNablwISe3kxTYZ08Sc58SzU3SauvFFm0hD8P2z3j\n",
              "Yoad9uUcgaf7wqmFcvg5gs+f+F08yBVxnSJroeDBi9hSudr60CsptYgjooEAAAFhQZo4SeEPJlMC\n",
              "Cf/+tUREXdwCEkcp1EKgIzUQc66tR66pJ0NM3qhsG82GLLqRSKvdowcKVYZoK3ZpFRBrIv1XNVpk\n",
              "2uGfgYrJ5yV849YDc09eM0823Y2QqOTkQ+SGrs1DgLD1UYz5AH3nnwVrYhZREjJnm1MtVWf77M/A\n",
              "AAK9fa9ZZhSkNBk47tp1c52tfS4ZpOlUgIWVkuBe5pw3RUvm11bz4ObKYdpIQpkqQ0K6qm7V8oVs\n",
              "Vsm5o+OhMADAjY3Q4NJXbFlIzbJ44Z0eNReOjqnLsDM+MNfVaGVIg7UaIgz7lcwaP4AEWQBGsvSZ\n",
              "bX3CZMkSev+DpgFZ3c6IPsOx4zZVETc1e7UQfUIeVO9W0fDXMXvpZQFSJxphmpg1P53yBbeZA+Hk\n",
              "CLGQUNhPc3R7DIifR8HaT0dWnqpcYmaOyHyvrzh5b0Xl4jnoqDCMCGM02PwnC47UPzZzMqCKQT5v\n",
              "gYEAAAHzQZpcSeEPJlMCCf/+tSCD16LtvPr4E2AE+s+Nn2qIKDnrihOj8bWCzS7rjackljAdSRWU\n",
              "rZvgaob2a5aK72fTb5Oh3Jp55Mu9VRFMP1DvkKH42tZ/Ayh8mNx9JOEUq7mS7Np6Lpf/4UGW2al1\n",
              "LPb87VV/Vb8OirUTR7oxOfj4MeUtnGWnmomer0gNPF7ihHKttCmJUN9jZM/vVoFjRt6qCOFlR6kS\n",
              "BFu5BjRYbBaTSxhJN63mU8h2Nt5Gc5d8+FelPb8g/UUHFVfC9PqxjsIYHaLd/AxYGaccLgTntrvV\n",
              "90WBrKdGvScR6zBP+PP6MLynknA57/mBxU1ntLTHxQ05Yn/ymLL8SP9MxAQEk/a8gpEISOa+ewJA\n",
              "QNdZ2XOpT4yRsVPzh9oxHT1FDUkV/sFwqVDfMACyigFOhHYM2FewdtcKwrPcGLT+sWad5VbmrO2Y\n",
              "YulfLvZCy5YknJofodm2LeVTlWilZojIW0cWGaCn1WZV8Nn28rj3WvznDXFuTRNYBnePAz3Mn46G\n",
              "Zg/Y6Boh477xPqEXtpsL9BNnfUpJD8+k5i9rny/AtBu9VsHgO7RSzYy1t2wbKzwehtaCghaZlCSr\n",
              "I6sLYegYtxyP41ufsi3yBSa8XAj+EHc12rjOZirvt75U9xvlTQUVpq8LheIf6miOGwAAANxBnnpF\n",
              "ETwQ/wcR0DS8oivQACdoWSpV2draBEJNyqJRuFCzefbu2qbs5ty/WjhJvLGACoPDQikKhCjzf9zK\n",
              "Zmtn+OtUHaPZ8sO08mCGNZQAkUwTv1QLDc9ocz9UuTeVxF5AMJxEzmzvF6W2D2bUaEo4kSVPWnXZ\n",
              "9VLCtRpn9i0n1Zx7gB1eEFidGBkon49EgRjMJVBGGsZPH774xGs+QBKg7rz4VD9Fjo6qyve9DVG4\n",
              "htA352an8RVe/DX3HIrx4W16p8nH4FyzTwouvCTeXehZ7IsFSwa9twvgqy7hAAAA7AGemXRD/wj8\n",
              "tcLy/QAP6RB3ZAbvQDPMLgot5KmKISBmPlunnlE++VQJt4QDKTzOeMvD+Yb8W99iVxesdxXcLttx\n",
              "iZWCV9qv4E4VDr8LyIYEEu4aNdGDCER6EvyB10Ye7SdJm+o+pXrGU2Pw9olmRqm7Rr+psErbjID/\n",
              "xXmzsshmc8cCCCciBswijM9OjIqhvd8VC6nQjv+dIH4AJN/cpBnULxP2Dxl4GTgTrU955wGteaAl\n",
              "ja0Zi4J0juISz4KAZvFewFhOiqhD3b6UdGFnw0h+egJWd56edhRlcwb94MZ4lzD4QS9dOJLPDLCG\n",
              "AAAAoQGem2pD/wj0hWubxzxJ9ooAH8zNw8E6XU0+uJk985zF8lAzKCxYPnrKUJG7b4Lo/QUKRgJz\n",
              "iE2xZfbDCSEsvID0Xo3AtrU9G7xRcP6sg5BHWqXY7Hlelssgpl8U0KU2YYfxm8A+GNgAAn/zPn1I\n",
              "MKCCgBva4qYWW/k6XngWQr0Pgkdp3Xaxby6yrR45T0MD6ZjFj649nSuaSkbM3muQFxSRAAABrUGa\n",
              "gEmoQWiZTAgl//61REHl6gHihva+wL3ziKhJTg658Rv0r8x5ZSvciFuf9qYN+ZC8MG7EJO+utIJ6\n",
              "f4YGcWXE6GvRPPgXxerdd4u3hugjq3HqvZ4KN0mhv6JBO9HsfEkSHsUDM0ITKe2I7lrC8UZtOxNa\n",
              "VWTGqQwjHnun5m5sV6NcyreOxsXQEWyhGzxnKqY19g+G8EVB3ZSlZHCMCTJTxlZcp/Ip4E3Qh9MM\n",
              "3kVCzXT2ClQ2nU8mvpDfTfOyLvHdEEXkS0rL0zJQyPmJRucCNNbJUEofVpcbU3Dh2jZrId73zsCl\n",
              "cR7JL74mQryo2PbVz2nWx88H40tGUbAiQ3W8QXLdzUVpreqHqo5GZPLePH9LAoihBW/9jWNylxV5\n",
              "bl/3nhORdresX6FCLKYhUwL+5oc9j2AtJmswBuXdES+pbmVR2BoaRHDhUVN1E5A5q1kYHRjNdMOw\n",
              "mle1o9+6X7s59u5yxesB3GLf23FfA3agLqaSyXkCk+XJL8T6DY17p6AGzwbK2Iz9HVhpSaPg1nS4\n",
              "xM1Rz/W7+wUUnnTbeNjtV2tRVVqyRL0g2PBJTQAAANZBnr5FESwQ/wXv/YABK8NID5B5DXguqUzx\n",
              "1vR6WoJWd6jXUpCvnsoiv9dMYNh2k5O98WKxDaMNFM+9ptYYZBhEhMztOEhiFsQgactL/Gtxdye4\n",
              "peWW+s1N4Y62PwuEPwWECXxJlOcQYcC+v3kjD1DQlIkA/UN4udApDQC7oXXykt9Qa8cDG7m0uqdF\n",
              "Tip1zj+JNxAjs5bGSwhPYCHxXLsyvNUKzU0ADe86FED6B/TrMouBBNi5NANR7/HxG+nfe3L3ZPn8\n",
              "Iwk+s1ax8Yo0ZtpvIMARwgG9AAAAfgGe3XRD/wZjGfqxiIAD86B1lP8Ufe6yaNizk/qUMoNyvJzD\n",
              "0wwyu0UYPnjU282pubk23miMHCgk3E+Fm+5Fc9t+KErAsb0jmpxhSXk3BGCqETr2wSbYmQkDpN9u\n",
              "L8u74N58WmmYdOfYX7l6tgtnPg0Z5IBPHS5W4NQKsMwCtgAAAJABnt9qQ/8FB1aEiRQATV8eRXKF\n",
              "QhNwWebbO2xTfBkJjyxHHdI5+8Q7uV3LPCLE1VB+jmWka7LRvLD0/aWch/bdBVECjIlTbRojeRhR\n",
              "V675Y9qe2+RXducmYaVDoH6HM/4wnBJ6igN4s3oN8FAcnGJ/m7jHJ+822V728IUs6Bm2fxA8Fgtn\n",
              "fZaEhQNJ8E+Lhx0AAAGGQZrCSahBbJlMFEwS//61REHjQAaqCqNFYQWpKn9oLHvIDuFJ6DNn0eWC\n",
              "0wOhkguaokD79GoHjTSQO1TuOGxhtQsHkhLYxKuPh7IEy0M9nQRIKz+lvQAe6xynIniU5REpsXzB\n",
              "kT5lkRMLyHwKXxRMGdNzz7MY9WHzUnkOsiWo0cWZIZmfb0gDbov12O11DQDBVvyPrXdb385empZe\n",
              "jfyc2A0QnP2CWZpvz62aWM4cH06OAFtCKtdQ5lm7+gbzcxXtCHaNGJjESgeUCcJ79R/va6K+fSYh\n",
              "NbvF7W/f5D+lxojBoBx035QP+H/Y54bXxlG5xrJxZc8aOoLCFBg2xTpLc3N2isJskjbM38pedUC9\n",
              "ZJB/9ywnpCc+Dx302FQ+1avjK61QQ+3vOjZIheWB0J/wkfa5Vb0ivFH3I1xMN+Nt+l3JY33hqfYj\n",
              "ZypBfNwpRz7wKoaJDxEoWEEVoNS5brJ4qKzuZKiKOVyAfZY7mOfnHuu1EFyfbjhXfFZkt1p08QrV\n",
              "zEoxq1xYAAAAfgGe4WpD/wVaXJJGAD6tOHglt89/rWYqkqj3vk1y+T9z5e92SvbtzI5SL6nqCopB\n",
              "DZ9mVWHfxLzrx/mjHhIbs4/xaQAVLg4frYUcW+p8UFCBUcGIofM3Sr/rlxAWaAL+Y2Cbi1ZUmT7K\n",
              "JIZyZBTfXTRW0vMMuum0qn2mbR7HLQAAAXhBmuRJ4QpSZTBSwS/+tTeA/kADmbvaV7mUOumviSNv\n",
              "mT5jDFkrli9etgxTANsSaxYQbQuUifNLTSF0DNgHyGBtG+EqBxK/+IJGxpv88LMsfz/NJayPIvNk\n",
              "GpoAXO75prGnB6KcQC0btlgBabGlM87rZ0f2oB9K0d3f+xMatEnwqJJ7NDsnjaRWm3+iGnphQV+n\n",
              "KSs8cyCLbDH+fMIiPEKUGiCOsj1Ma+2k4qd55Z9JsODUPhEbWWIw95bi4sWJhCWcRsJGs3V2cbeG\n",
              "NzbEjE42+/J6icJdl1ViSipNS29oimf2i1Dno/mBOsWIU2RVvhIyao/BQi7qrqEFW4P019x5Bz+k\n",
              "tqHcX/5Egp8TzjGXxvDtNpYRmXcL6XIc1/L3q/SRHaAMAajfROuv+xi3Vz/reUosJzmK3V65fcha\n",
              "slwv8+b0pt6JWZTHoRsHNwQ8QkXbt3uJ6/UvzhtmCMzMWQ+QqGzjbXG730v1M+krD5ixCGCOgNmU\n",
              "4G/AAAAAfwGfA2pD/wTebzBweavgA/pEJXfY3aUY3WJIGX+SIAKFZ87JmfHXKEHtmDFV5u0izbI9\n",
              "XY2uLIdr9NzsplmNQtJU5TgCN+QXTDWLoOuHFhI+gQoh+HMT1mOLn9r4b4ChsDUlaOuWmCoL4gR9\n",
              "fkne85I/QMel85184R2lvOi+0ScAAAE+QZsFSeEOiZTAgn/+tUREP+ACbHGqRS3aUz2x88w3GR55\n",
              "/OdecOA3ZzG6GtnKmyYl8oH6KN6kMXIKiK8N/qcLyTeMQBZ423ydVTq3HhnY3BnP3foO9YVenmfB\n",
              "OLC09w3puPybZrNGPLNZi6U03/GHkGlZoHEAlKWWc3gMObRZ30+TYhFuV5IFytdjkJzw9XmeM7oA\n",
              "p3bTJGq+4HdebYAxZ4UaRJSXZ7QhIn5kWck4T+We4dX5mUF5y7xTxVNy7L3LtNipHpN9Oc382qkb\n",
              "uvIv6OzDJeVP0hfZbxf9Wj1TjEqBDj7JX3PRzhSzBu+z0j37m57eIqh4qJWvBhjwzoYhFvFGnj7b\n",
              "1ink5YsOhXd3Bgdl6V7MmllxzZrqV1wPVRuBU2adCx4PjKVFiKFxr1vJcxhtNy57dSQgZJ0Hl/bB\n",
              "AAABxEGbKUnhDyZTAgl//rU3gP5AA5beI1aeLtaqumPFFyQ/Ua2zAG33i1+BTesFlaXQSgc722pK\n",
              "1OqLzdJQzFPl+v9frKza22Mh3d/c13T3JDKAG0fTNSZA6dOEqUDYUkoQB7B9pmvU7edUMDtNA/RC\n",
              "kctJzbSa81jXsZ2KKIJkKmN5X9Wl5JXtwTiA35K5imfRga7mByqR0SAmKzg/Az5Jk/QO78A6gP5Q\n",
              "0XRmVTYlAWRg+KadqTo3QfPeH5iDKo6qhG/GkeYEy4TNEWGYLvR8G2E7MNP13F4dbfHqCdYBVDPQ\n",
              "6nu2Jo2Zx3wpUho28gtZdoHyeZwQG+6GfnYKn+rBppA6MYmkOhhRQzDOgHUr6wMSMk+s58SAo2Hd\n",
              "FhUQSdg3CJWlRTYUpMsusIrV2YxDxm3+0PGA5tDGtrPAwX0CrrX5CcA3MibIaGUU7+YAdxPtjQDB\n",
              "cSWO5z1R8yH+Q1w1oi+qtkKb45m7mSFC0po+aXbo3QIlxowJcf+8oLf1g3dH6Nrht54SFxKVlfpd\n",
              "R2GSjnxNjYoU3UdRu5LN7vU3MqOx31gzTeqewLIZaVBR7uhS9TyD2n7uR8Xx2aaD2xA0TJuMEAGf\n",
              "AAAA6UGfR0URPBD/A9vNDMP0QALqp97N3q64MQLJ1iacA369oyW9yRySdykQSiuB9KWsfPhhrUYY\n",
              "NBH0G8YBGIwmq9Xc+8PoSyrxcBnZioWSSCJmK2YKHW360FHv/kppgE1iv/E+R6iCt/bU+fgrLilB\n",
              "h5bRKsby2TurVwg8cKoOD0WztFymbrXbiqU7FnB+1ayos/cF0DSvwR0Ainek2SmHG1BaRqZXH1Cf\n",
              "z9u/EKft1Zn2paYktryFUZR4oaoQQb5P+925FTrbSXcui7ich7M+4v19f6o84qy3c4o8nQ/+WBjZ\n",
              "jsU67vgkAM+BAAAAgQGfZnRD/wVgBSIAJ1MN0e0g2QPpLEj3PfEYZg9Fjhv7V9Ut99/rgGM+vu2t\n",
              "eL21cn6SBvuaFUt1PiySTopit6brR2ygci22m0aRjE186MenIdvdtlag2OBZZFvh4q9HvkBLSAo3\n",
              "JU/T0dwQpENt7zpXq76tmn1ECv8c85sNFFol4AAAAHUBn2hqQ/8GXSLmRTwAf0h8vkXQs7kcgM0c\n",
              "57oDtha1iBYNuVMu2ursLiwDU8+oQo+PH5rH5IfmPSKQ6PngJuRqi55hBLDWVCknh3mUIEKcgg+u\n",
              "mtE7ae/rTIJsL7LEVCxnmvsttiXObIDJ783+/3u/YF+KAyoAAAEsQZtqSahBaJlMCCf//rU3gi7u\n",
              "AI+pwVHs3BdmGL5hxVhhgPvhfgvkU0bMT673TiesbVM07QDdcUvT9MTg1XzCubUHW7p3ccjcgI59\n",
              "kKTzk4sDu8/nOXKqhIQCrBWAtlOuz8LF0t5iWX0D9GuPof6Q3Me58n0Nq4IcxYMAr6+HMKcyEyXn\n",
              "7JIBmV2tBAuyB/8n+OLv6aFGkVPaKIiCNKuoNoezWrA1/dMw877QlTfKbX1Bf02cuIpypZ4OxeYu\n",
              "w3f2oqALxniqMQV+zjJF2irnDwedAZx+BmnVzfCGYe9xW+OLqSuMoLLaz2wo9tIU1lWuQZfDua6Q\n",
              "nOxvppkARomQ93FyVbyt2fo1F456n5Zi4NNz9VcKB/9pIuetAWoWXre65GpoTZk3RGuzGy1VAAAB\n",
              "qEGbjEnhClJlMFESwT/+tTeCKkADkZCJjLF9S+VEQONk425Fs4jfLRtnR637QO7QK1rtsj1bKJOV\n",
              "fbRL9aXetw56wCghtwuuyJ2bvMi9f6QAKoLDWTt022RGI873GY2mLnL5B1NylvTVyE285mOhPjj2\n",
              "yniRSYCeuY4o7eqrO68IhXyeNjNc6cagvfm3+irRwcEQiewvWDGUT0bbNviAfx/aoH0vmuvG16CS\n",
              "Z6cjvebcFmy09LDn8jqpxuJrziKqHiGJyimFrtGQHPcvohCT5XImRFOtrEJEsdg6/VlkAPZHk8qg\n",
              "wTS2a/VrXs1T6XEBeh21loeSHXrdf7azP2oZj4zjxuV0MUL9EaZ0WEW3TkGdz2tDSeFuMdJiOwxl\n",
              "G8CkeopJnyy0xvMI5zOdH7rwnuCWmkQoEZ/vjszCdZB+gGUGV7j201R2pvOAdXCrTL7ul/HtnSab\n",
              "CQlbnmKTVn88Rxrv5zzHufz66sUGgd70+WTwOg9VXl4m1MJL+O4gngcgb3/9Il4/SAg+qg77EYqC\n",
              "0Wmfa1G5VGXOFxgVeQqGBtpUU7m/Iq3WDYAAAABxAZ+rakP/B440vjU+C+gxJ0QAH1acImbnLiQP\n",
              "WHStcOyHdaegKfhjAi4nupBZFi8/1hEIMFIeFp2NI+Sk6gEE/5gJwd2NTM/PxSYm/LDVAgwBBRDY\n",
              "owsgfrhMBi9qCfGfaiXbX91g2XjxqeZf9p8Ml4AAAAG+QZuwSeEOiZTAgl/+tTeA8aAByx1ybudO\n",
              "JtbEf0cFs+C8vxfk+syRv0IskRyTsK1nU36GyY9IkdU+FgQlr+5guosk0ASD7UayiG9ud/3Se27L\n",
              "5Y20WEXAyStX6QIWMG3wDNDeeYZt3cQ+EKgj54gdF3PVlq3q5J4A065ybPxyvWMdRwK4pfN185lu\n",
              "pRiagmCDiFbFeGb6Jc36ZKu6n0E9A4neb3fgxBH+VrX+WS2zCKfFeCIcPb47In7a9iqdbE5Pu+OZ\n",
              "kYa/HevPSAOSA/Sq/s0OKdwd2WjVaYlYQZSTthjKQXGUTtTasSnY2L91pZVGPbIe3rZv+ITswJK8\n",
              "zNNSdb38fWCs6SojTQBn5SmKDkrPhlpyrMYEQJCweNyx5i9DPdDay8Jzwehph+PS0o+9TSKTpfQf\n",
              "ziZeBwdRFazL/7m11N4MnRi9/pJPObeMLxJU1cWub1p9P3kY5Tqn+tRa9tOm2oLqNcyZW3zZZ8GJ\n",
              "iwsuYmN/X81LodE4G0WoG9sUkzDHkpfqwFJNty7HwVPN7OyslYlTcaAkB10QUzp09vIz5wIIp+VV\n",
              "5yoUx8yZU3owgTIdGLJmktAzI12bUv0AAAD4QZ/ORRU8EP8E4/4AALpRRDVKM9bgEsvY9QTUzUaO\n",
              "8BR1egosALbBQgi1HygmTKY5WKf6Dso3K2KOSi+5XBqI1a9G5ooYgfmtkbfJIImYiRvyvlwCPMUj\n",
              "kD8UjtiHJ4Sio776JDTpn+KCsIwgajK/MlNZhzvPJcfCduldybJ2xSYir57mLjqTTecxm8KMJW3r\n",
              "aWH1SyGZuh/fy2W3KHYlaxy/puNSKqeZev5Ec+T574Za8LLalDG2Q70ti/DOLn82lwEwZX1hrSjj\n",
              "sK41wrHuvuRuZq9nO019jAU9B7LfWVlSPuDsTNkd8xaYIByB0PjjKnyvKR1gB6UAAABqAZ/tdEP/\n",
              "BVeRD3wAf0ZpXfYvllckst/zmQlqeYu7sVnyUhm7cjQXxL5EdCn/zbXBuZIYuTV1Chdjb9O/rB4Q\n",
              "wn2999ByeGYmo0bADaUiPuAGkV7YGRsL0SGZplCEyvYkXDz4PVFlwOkFtQAAAIMBn+9qQ/8E4iZF\n",
              "8pKT2gA/mVN5piB3XWi/EfZKnLA7z23axr+1H7QN2xx5VN/2FdL/wjtwNgNGMqdsmP0cTK86T+rb\n",
              "Tx1MzjBUa7Cmf/0D3dQFY0fvqJgiYUA4vzgxmPxMf2hCeTXapneZ+e8I8rVyAvYvJLfBQOcy1YxB\n",
              "yizakHlBKgAAAXpBm/JJqEFomUwU8Ev//rU3gPGgAczdIzf+105sFnAVL0DsUQVUUSOTc2mzlP3b\n",
              "hrF43Of5TQY5TsiZju4HraSC/UbmUwy9HPixxQm/mHpm0V2ppTKBUCOniR59XDtJrRkwrt8/bkxT\n",
              "fGj2PymWnmFK8m1UGYMhK9evkEO4ujXnnnXrEGBVuPnFd+liWvJdtf2ojwdfwfrFQIOw7pNSHPMb\n",
              "SetTnEBipWzjwoa4C+43gh71LMVSlA5dzWpGdcsMAlKbvJca/C0qBLuAmmdwCR4TclV3qtEugTMc\n",
              "SrYj0ajjNFwkYVkoxw1QwfBNoAG62cF/U3LRqhnEMZiMBcA2/xYkYFWFNK0n5GzisAou7ptBZuq9\n",
              "rlMsS4VbSZ887tDflBB/vIcS9YcNmFl7rGzWrcUWZPTx8klgUf6fVlJn8Tl4aAVjHoi7DSz9cT5j\n",
              "A8y0qaB+OT5qnOKeWOT0O9cclsp4cdtUahqLiTlx6rFDKg5KGIO2HXAHNC3b5bAAAAByAZ4RakP/\n",
              "BmDM/VjEQAH3KzHhdzWVfkoI/l70J1DxAOaf7sRTG6a16HLO9/sfHGNLCzfNiWeS5AOdEoHL1E3N\n",
              "0+N/Yp2J2oI3mf4WzcQqIXDMKQTzvQIl0ZvViw1FP2O1NfYGbPnkIS3BzB82dJZO5UIxAAABL0Ga\n",
              "E0nhClJlMCCX//61N4DxoAHKGJaD7fXsg8YOUgctf9B7AyQgd0STCf9E3j8WVGu/bP1zHcWkjaVT\n",
              "L32njMbwUwRGMAWSAbgsmzQUT/Vcgvv5txUI1yCVCZ6WClVLqmV27RuP6EGhrtv5NPIf9PVaHreD\n",
              "1lwlhHMLrQhED+65P+kDdPkP+jwkc+N925e1PR2wIdmorHWQwpeibnWzxv1uA8q7Mxz8S64d7qfS\n",
              "pWEMEFHu0c35HfAxN1snoHlToSH6QqQ10+OntIYpu9QfYQOMBXLrxet056XcXg1uxJUQmR2RxX3y\n",
              "GRzeyDCsWKuWHpLXsBHrQwaf6+9weSLFeS6HCKsLcBxL7k9GvvOrRbStBwg3jGM6ei4EwEtLQKgo\n",
              "CyscurDmklReNprY0bMB4AAAASlBmjRJ4Q6JlMCCX/61MUx/IAFZyZAB2WCw0rfBOnRdDV4dXGfp\n",
              "r15+nwdnlxvSyI4Qbpi+m+FZWmKFqGsTK10phkKCkrHMsVEqco35SXKjjq3RIPRk6ibztTLlfiPO\n",
              "Seb8805TzvjDK3ucui7qfd/6Ndkonbe6FmddlIJ7i84I9l/sO+1bjpRYP8Ck56OWAaT61QSxSQ16\n",
              "YHHtgZYX1SkpDSmmDZwDlOmkDqNCLcHvU3rUiKjinfbFJ75h8Blg6yKx5qR1rKOoK/5w4P5r5s2t\n",
              "GpJrk3kVkWB1JNeodfjsZNciVg0SzuoNkLPr5kWlPASFsTcXQU/cOt8rdQmk41jPQZBvA15i9K7l\n",
              "Q83vZZkcMu85sU0VGgkfegVZ2WH7uvxYm1yIRB/dlSMAAAFOQZpVSeEPJlMCCX/+tTeBD/4ADcA9\n",
              "nskAtBV3n12r2ty/HSbWdFgsmwkzS367l0wywQvNzfyqi6diRuy4qq46Ufm8Fe1bn/WcG1IWMGva\n",
              "k3jjsfgv8UZXcBpnoqPsf/LLgvZMPfwr6ELIWaiQva7dPrbS/f3WnJoGNQBSveJ7/8I9PogB58pA\n",
              "5OfKC8589qLRbyai7JKkEDFkgReFlH1PeglwvnxswyRy61h+h5H8TWXnkH6BHj7JtGb4gC4sNFHG\n",
              "CFWLk/xgvJlleOtjqJpGnqOEDmnqJ2aDPpe9ht+f/0VpLc820Q1JkyemVTnEHphZfuhsTuRY3JPR\n",
              "JZaMYIxVC95JU8/V+QpFn7HmShvgFd4rkcdCRIPYHIRsladF11tndTM1dM5QtHrme53l7RbN4Dy7\n",
              "oZwA7aRmPYewiruikal1Q27qpnohIRnAb1hoYQAAAVxBmnZJ4Q8mUwIJ//61N4IgmoAh8hMOdweI\n",
              "tQ4zv6t0l4p608jUdyYNgftbZvUyNbt9mIbSTeC/R63SkL7J2RJ9KXn+E3Ue+JqWsuVEO0FR4T92\n",
              "xUSRtnrOju9w/WHYWcs/7PiedOWDmyJnDe7Bfb85cFQ3YNLrd13xPhnnm7WjYgAtZ53/wEfcWUsv\n",
              "wl2dmyDieVsXazEqydXEqiIdYkAcH56OXfUdX5wT7/WtT0Cos+IxcpzGCggIyZZ9Y/BuDly7+AZG\n",
              "EM88i1FT1WdFXrIaZviHwyj7nVHBMGHpDXJw9ekCeNqr/uMsf6fOHbM5LiTUWzluTkqNrDCX7a8s\n",
              "U5JZFssAdAhVp1/7CDseinDxJ+/iJlrBM4+CRLE78JDrysU/tSAUHnb6lrpkVMqyZHKZvyVr/2ze\n",
              "iIKAj4Ppf+mAi/+OzmdeqcPpg8XS41UoExt/zUl8f8xz6VNayiQAAAGVQZqaSeEPJlMCCX/+tTFM\n",
              "hWwAjEc0NUT2EY+774YHg7aBFFxefJXfmamKFebMcsMLqSF+eSP7/phX7iGHIa/ulWmdUmayeC+A\n",
              "JJ2+iFA+6AgHhTfFbkWVRdpBRMw7U7UKcuOiLy2X0oQfDA31YaWjEm+Sy3yv4Jr6DlY/+dlp/hf6\n",
              "Ex/uhGM/MYZhrOCvU1rjbeKNdRtKi9pmnr9DUC+zOaKoPrOQ6XS/seZhSXFHlVGW4yIWPMTF7281\n",
              "YwTVdeRgF5xzpfPoK35je0Mv8AU1zJ9bXIt0n+TmzVRpa8h2zldWILORg5PD2tceuAb3l+sKE4xU\n",
              "5uAsrAzj594Z7KhsCwaKJWcz90LPnIhv7ro/uMIGi32mZLuU0w4kRg83mYCKad33qFLlbKu03+VM\n",
              "mcmpJ2SgoPdauzPJ9FZGM5BGAd+maorrzrAEdx6c44R2bRYDLVMdntIkOSZO54EkVl/MM5CQ2sUt\n",
              "NnkDmIWqTB33EEM2jTYog+zcRD1W9qDptB7eCo9Tz+onS2DrS0R/XEs2vqredYIXAAAA7EGeuEUR\n",
              "PBD/BONQAAS0M8T3IGclPh20b6yqczYLlez9z8eSN74he2y/rhOR2b3mGV/ImXHlf+8dJr+bXRRf\n",
              "v4AsIjFAZI9qVdK9C/dNVUyJJ3+A1vw8bLm9R0R1wsjgUKon8ma1c64KazwjJnNBBO3WO2pYEaZe\n",
              "F6zoZIYthdeI6q8bVcgT3kqaa6akLX9r2Teh63l1M1QI2K88ArMfeDCvwleZn3olrp7pvq/YaiAh\n",
              "hox1Q/PYcE5kpRNtw5jiZn79Da1YqHbol2in2DI4MGnvdg87TQqX/zhMV1ZOllpTlxhuYngqEM62\n",
              "AD5hAAAAigGe13RD/wVXkQ98AH9IhK77GDY4r1tE53ZiUQeaQuGir46O+mWLDtUPzrAjX3aC8lMQ\n",
              "ZHK9g7z4U1VIgRi63Hct7sSpnHeXvbI3LBCddmo3nCd3joyrh87xTP3aJfCggZzp/2OYmiwgTYdm\n",
              "hjiVpwZbx4B9iOdnaj/Kq1Km/375jAs0IgrFUskW0AAAAJIBntlqQ/8E4iZF0FdDQAfzLGrKEinq\n",
              "f7EAjLDIpGc+W3ojsi5Qtz6KzB6zwI7GBBI3HCJXXpk+h4uLJL9xgHW3blylbUPfLjktIXWqFsb7\n",
              "yQTt8LNoI09CfIbuC+0jdNdu0IKCf+oD7wJZ1wFbUUQpt4V8RyHakDte0eMICOmcEEQSn8wjfQ2B\n",
              "+wguWzzLG33hCwAAAWJBmtxJqEFomUwU8Ev//rUxTH8gARNfrcLB8GIKbm0nYpyWfnkhnTGSaHFV\n",
              "+21lPB9/Q3WSi3Pq54LV9cvW0RZHEOdPgZQ0Fw7fiGzsaz0h5hYS+yqzYEZ5AWKu5QOrJqqt3tJX\n",
              "GQ0l83dykLyAZXy84uHql6rWaINt8z2nnCASZBCp3U4ZfZKAvRF4Bjf34o1SCZjVb2skKCd1g3OM\n",
              "CvWKsJCOtS72s50vx9ql5R19yVPnn20Hz7/4+pfBgRI3VJucKqeKW+v9TsPz9i6FRy8DtNOVW0Xz\n",
              "RpO2itttQd0C6TH931Dk7th4Bz9k3R3R62PrgwuLowSklfg2n8GPigq0W3oVEmTuiXkxcK6syD7f\n",
              "OLm7DstfmrqRtweSSIt12xdppQ8v0HXdtH8bkkQDaR0Sv9A6caKpchwRi3Mdc+ZMBCqO/CYWOR3s\n",
              "AcJ4nLA9QV8SNT2TR+ppcvH22eJX7mqTSAgAAACNAZ77akP/BmPPvjq9iokqIADtysiu60KDcuMW\n",
              "s5Q8T5PFKeoxTst0mKjTgCSiAjHi1dWpcMgUjGXhMBqB3COBzyWv8hdorCKeJKQBDjkK0zUFYxl0\n",
              "8npqCNrgQkMHjJLVTzuQkPPz9fw2M618ZDcreYkUKG6aKm4+cA6WT2tn/JPHN1Lm2jLpC9exd1Ft\n",
              "AAABOkGa/UnhClJlMCCX//61MUx40ACJt4W+5GTaxPR0z3srfdUYcT0JGUvgQ/nvqzOXnpQVzPjI\n",
              "KSb5pEJb+26BiFXTTD+gb4GygnMk8vIkgiN38BWfGtxwg//lOWCfRlysiG19QCnwEpxUemo0j91m\n",
              "Zfx4L/rIcZetpmLJWGTZu0a5FpgR2Z95cTH6TQcSehbiOe5gML4ic1fxXo+LRVedkxIckA0TN1lW\n",
              "mAHMCQI56MmLjgoMvhaQCk5Uf1oTvkRafCxQRBxaPnUdn/5a29UQ6xryAfUi3daTDTFCnc/breB0\n",
              "eyw1w4CR9LnKJUuOJnuuihyPO0lLzggD/ALMwGYyoVJ6vcrptivS3e+/r2zunoB09CBmTEkz0+xw\n",
              "T7RGDUolS+6TTdVyVjgc9/+GZsg4zjDh8Ff+s8JT/ctrAAABS0GbH0nhDomUwU0TBL/+tTFMhWwA\n",
              "cc4hsM+22K/6STP+cMf/fwV0Lds45nLxZVjK7xhE+ptyUsa0hnX2fk/RV64f+KrShFqFGeHho2kn\n",
              "q5qpTvkwCIB+N8wYBX7W/HDw76P9jFLcvUX2b0Q3gGYqmwVwdZ3zyK3ijJw49sm4JflkFrIjShW0\n",
              "Ty1Kovj1Z14+SYr5pdy+itKi0Mz2/7GbfMMvZkGha/oRD1XpMSoNoODKxCAqx6tc9dmYfCoTwmHT\n",
              "ZADZFRbIQ3oD3zR+YucqiQCP0LWF0YN4inGav1UIwAp62LG8NX9TPesI93+DUqVd7qckIUWefiMK\n",
              "GQbAfu/LdYe26WUJYbXB2lpCqnzhykWUniq4gqy/tmbfgOQJs2pF2xaJAMloSuPndZkAPEzAQLbf\n",
              "vlZhxWUGmP1kkqDubH6ClQ6WJw1jgATunMMAAABwAZ8+akP/BNDgiB9277AB9WCcz79nXA/rWNVa\n",
              "nPZily2JzKaR4qyqWOFZxAZJLyWaVaRkBxJd8ARtEk6McQvM79wYdIS3srSCwasa42t1gkHBmjJ8\n",
              "5qqG/2pvhXk8bj9xYa6TApjJRLwRZlGi1IYWUAAAAQ9BmyBJ4Q8mUwIJf/61LoBFfbgBbVa4UqPE\n",
              "pBYylBbgO816JjhQ2Vy2vGs5WKImwiZy7gUFhxjHXm+/fMYWqhPWKv4K/rPOWFM4O0GOMMaeKNzs\n",
              "UvELzBuAv688hYwiCTGGXUbAicLAfx5BNJ30BDVfDp9J2DvPrJrmbjlACwZd4nz2nocs/ao4NtV4\n",
              "M8wvoeXrUL/BG6XDW9PmfaXNHehxstTbsNsdVlE3n3pDS6cN2ZNDpv2ltny8t/5svwtIbrSzncnC\n",
              "nz9BxG6QNImQkB0Baz2asemUWclJpUFRoP00bJRAP1S8q9+602VihVdmpxGyfuUa+HZ9Kes0PuZ2\n",
              "hR/UUzGanULhf7QYvF8y8ZLBAAABH0GbQUnhDyZTAgl//rUuREP/gAFzgVz+EQATiYwdiAujw8Hl\n",
              "1r/C74NUcczelFuq8meru3g9mUp7yX1RsCo8mvhh3qrHo00t2NS/aeHeAnnVvPYox4IqAcobgNi2\n",
              "KvsW2vcETC/U8EAxOTxClVSrWn2XtJNl+pnQa1O5O0XrYmZYqCUn9XxWrcLemx+AJBwZ9SSmTLvw\n",
              "5MTkpFBug7twSgof8FULvYND2XYo6zD5+EKIXwo4AbHjennAyYg45nXKkt/eqc1wHbeBZxbbPIuo\n",
              "1QOC6V0hkU9BVRgIKLX3hngY08nlmWeRAxECmZKfmnfDOagIOkmlaK+mgp391nE2t4cfQFcwD/r0\n",
              "JcBuVwiNTJj96gQiG5BPPUl5kZHVcYM+AAABB0GbZEnhDyZTAgh//qpiY2QAAS1Mve9TwU4k8WgZ\n",
              "fyPhVvm6MO/p8J1bkG+/T3642LpFikvHUnDTFI0juaAa/hi1wndsPs49ir5rlkTSdYYVYpaCXQiw\n",
              "UQUCrDAhDiTLokts56/tyLpw1feqolXWg8YhXJiL0rnoYQCb1w98g5BUFqPGohtoGiFGKF18MI/d\n",
              "th5rpM5H3KQeTu56xA6+ohGUodj9qSTKyLxXxLRG9VI/wrOJEu9wD6WUns067PnyNpeHVLdcNbwZ\n",
              "BkuDieTxh6o6y42/U5KY8imOAmEK9tnyLZPJ8dFh7+PGhYyzGdCJF1jtBu+Bha1rpOKYZ/qwJeP0\n",
              "h+rGeHDBAAAAlEGfgkURPBD/AtZP0Jx6AAJpDuTbbXwOrJw7k9TeTBEzWuFgdlEMltIeeypWu9rR\n",
              "She7U58u+P5WaGiUK4Yh34nvopemQMoeMCEfLcwC3yArns/XlsoTPv9mCPX7wVC+BWr1STjdHoYr\n",
              "OvfdKsYtb/XHAN7US8Kkef9qS4czMW6YGPk8/rDsswbhm7Wp7He1VXGxRSQAAACVAZ+jakP/BOJ6\n",
              "1tUGNHAB/MsasoSQPBwxq4ytnC0OeLeXR2r7pLIbT7QJmKu2rhx8Q8f4kotkL/D2PQcBssgmR2wN\n",
              "7a/U3skf6MdjKbQ6RHHLA3KnpYPXLvK9zwsG1onf9OySafK0ui/TpFMvK1YHctVAKaJbLJZWi7Ln\n",
              "e3ZTasZbYqfvHGOU9HSSPPqHCTpNoQBRBlUAAAC1QZulSahBaJlMCH///qmmc2XoAP4QL44vrzof\n",
              "7b3CStUR2yI33/QWxnm1qydYUbZTbqxRs50XSr1Q6gPp1ZXyv/cAEk308TaIDrmmF4EGb1wceCE8\n",
              "G0pWrWQgr5JMBqEGR4G0XmrOupRI3i6jt503PPLCIydlMkygj/oeSYvnvpuAxbV9J2trjEnE79zj\n",
              "QJuz23yH3QPhFVJY3NC0Rv4/DklwzL0vT3yFCw8yP0WI6NtvKrjemQAABh5tb292AAAAbG12aGQA\n",
              "AAAAAAAAAAAAAAAAAAPoAAA2sAABAAABAAAAAAAAAAAAAAAAAQAAAAAAAAAAAAAAAAAAAAEAAAAA\n",
              "AAAAAAAAAAAAAEAAAAAAAAAAAAAAAAAAAAAAAAAAAAAAAAAAAAAAAAACAAAFSHRyYWsAAABcdGto\n",
              "ZAAAAAMAAAAAAAAAAAAAAAEAAAAAAAA2sAAAAAAAAAAAAAAAAAAAAAAAAQAAAAAAAAAAAAAAAAAA\n",
              "AAEAAAAAAAAAAAAAAAAAAEAAAAABsAAAASAAAAAAACRlZHRzAAAAHGVsc3QAAAAAAAAAAQAANrAA\n",
              "ABAAAAEAAAAABMBtZGlhAAAAIG1kaGQAAAAAAAAAAAAAAAAAACgAAAIwAFXEAAAAAAAtaGRscgAA\n",
              "AAAAAAAAdmlkZQAAAAAAAAAAAAAAAFZpZGVvSGFuZGxlcgAAAARrbWluZgAAABR2bWhkAAAAAQAA\n",
              "AAAAAAAAAAAAJGRpbmYAAAAcZHJlZgAAAAAAAAABAAAADHVybCAAAAABAAAEK3N0YmwAAACzc3Rz\n",
              "ZAAAAAAAAAABAAAAo2F2YzEAAAAAAAAAAQAAAAAAAAAAAAAAAAAAAAABsAEgAEgAAABIAAAAAAAA\n",
              "AAEAAAAAAAAAAAAAAAAAAAAAAAAAAAAAAAAAAAAAAAAAAAAY//8AAAAxYXZjQwFkABX/4QAYZ2QA\n",
              "FazZQbCWhAAAAwAEAAADACg8WLZYAQAGaOvjyyLAAAAAHHV1aWRraEDyXyRPxbo5pRvPAyPzAAAA\n",
              "AAAAABhzdHRzAAAAAAAAAAEAAABGAAAIAAAAABRzdHNzAAAAAAAAAAEAAAABAAAB6GN0dHMAAAAA\n",
              "AAAAOwAAAAEAABAAAAAAAQAAGAAAAAABAAAIAAAAAAMAABAAAAAAAQAAGAAAAAABAAAIAAAAAAEA\n",
              "ABgAAAAAAQAACAAAAAABAAAYAAAAAAEAAAgAAAAAAwAAEAAAAAABAAAYAAAAAAEAAAgAAAAAAwAA\n",
              "EAAAAAABAAAYAAAAAAEAAAgAAAAAAQAAGAAAAAABAAAIAAAAAAEAABAAAAAAAQAAKAAAAAABAAAQ\n",
              "AAAAAAEAAAAAAAAAAQAACAAAAAABAAAoAAAAAAEAABAAAAAAAQAAAAAAAAABAAAIAAAAAAEAABgA\n",
              "AAAAAQAACAAAAAABAAAYAAAAAAEAAAgAAAAAAQAAEAAAAAABAAAoAAAAAAEAABAAAAAAAQAAAAAA\n",
              "AAABAAAIAAAAAAEAABAAAAAAAQAAGAAAAAABAAAIAAAAAAEAACgAAAAAAQAAEAAAAAABAAAAAAAA\n",
              "AAEAAAgAAAAAAQAAGAAAAAABAAAIAAAAAAQAABAAAAAAAQAAKAAAAAABAAAQAAAAAAEAAAAAAAAA\n",
              "AQAACAAAAAABAAAYAAAAAAEAAAgAAAAAAQAAEAAAAAABAAAYAAAAAAEAAAgAAAAAAgAAEAAAAAAB\n",
              "AAAgAAAAAAIAAAgAAAAAAQAAEAAAAAAcc3RzYwAAAAAAAAABAAAAAQAAAEYAAAABAAABLHN0c3oA\n",
              "AAAAAAAAAAAAAEYAABQWAAAC0wAAAP4AAAIlAAABgwAAAY0AAAKfAAAA5AAAAoUAAAC/AAACPQAA\n",
              "AQIAAAFAAAABdgAAAY8AAAIoAAAA6wAAAYUAAAFxAAABbwAAAgoAAADdAAABiAAAAM4AAAFlAAAB\n",
              "9wAAAOAAAADwAAAApQAAAbEAAADaAAAAggAAAJQAAAGKAAAAggAAAXwAAACDAAABQgAAAcgAAADt\n",
              "AAAAhQAAAHkAAAEwAAABrAAAAHUAAAHCAAAA/AAAAG4AAACHAAABfgAAAHYAAAEzAAABLQAAAVIA\n",
              "AAFgAAABmQAAAPAAAACOAAAAlgAAAWYAAACRAAABPgAAAU8AAAB0AAABEwAAASMAAAELAAAAmAAA\n",
              "AJkAAAC5AAAAFHN0Y28AAAAAAAAAAQAAACwAAABidWR0YQAAAFptZXRhAAAAAAAAACFoZGxyAAAA\n",
              "AAAAAABtZGlyYXBwbAAAAAAAAAAAAAAAAC1pbHN0AAAAJal0b28AAAAdZGF0YQAAAAEAAAAATGF2\n",
              "ZjU3LjgzLjEwMA==\n",
              "\">\n",
              "  Your browser does not support the video tag.\n",
              "</video>"
            ],
            "text/plain": [
              "<IPython.core.display.HTML object>"
            ]
          },
          "metadata": {
            "tags": []
          },
          "execution_count": 17
        }
      ]
    }
  ]
}